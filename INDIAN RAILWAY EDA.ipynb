{
 "cells": [
  {
   "cell_type": "code",
   "execution_count": 1,
   "id": "b9c9c840-cdce-4b6b-8660-71373dc17054",
   "metadata": {},
   "outputs": [],
   "source": [
    "import pandas as pd\n",
    "import numpy as np \n",
    "import matplotlib.pyplot as plt\n",
    "%matplotlib inline\n",
    "import seaborn as sns"
   ]
  },
  {
   "cell_type": "code",
   "execution_count": 2,
   "id": "04b97d11-ddcc-4fc1-983d-484dee27b16a",
   "metadata": {},
   "outputs": [],
   "source": [
    "df=pd.read_csv('train_info.csv')"
   ]
  },
  {
   "cell_type": "code",
   "execution_count": 3,
   "id": "042f2353-5169-442a-9055-119e266e15e1",
   "metadata": {},
   "outputs": [],
   "source": [
    "df2=pd.read_csv('train_schedule.csv')"
   ]
  },
  {
   "cell_type": "code",
   "execution_count": 4,
   "id": "390d81f1-d47a-41b9-b233-176fc9e7f696",
   "metadata": {},
   "outputs": [
    {
     "data": {
      "text/html": [
       "<div>\n",
       "<style scoped>\n",
       "    .dataframe tbody tr th:only-of-type {\n",
       "        vertical-align: middle;\n",
       "    }\n",
       "\n",
       "    .dataframe tbody tr th {\n",
       "        vertical-align: top;\n",
       "    }\n",
       "\n",
       "    .dataframe thead th {\n",
       "        text-align: right;\n",
       "    }\n",
       "</style>\n",
       "<table border=\"1\" class=\"dataframe\">\n",
       "  <thead>\n",
       "    <tr style=\"text-align: right;\">\n",
       "      <th></th>\n",
       "      <th>Train_No</th>\n",
       "      <th>Train_Name</th>\n",
       "      <th>Source_Station_Name</th>\n",
       "      <th>Destination_Station_Name</th>\n",
       "    </tr>\n",
       "  </thead>\n",
       "  <tbody>\n",
       "    <tr>\n",
       "      <th>0</th>\n",
       "      <td>107</td>\n",
       "      <td>SWV-MAO-VLNK</td>\n",
       "      <td>SAWANTWADI ROAD</td>\n",
       "      <td>MADGOAN JN.</td>\n",
       "    </tr>\n",
       "    <tr>\n",
       "      <th>1</th>\n",
       "      <td>108</td>\n",
       "      <td>VLNK-MAO-SWV</td>\n",
       "      <td>MADGOAN JN.</td>\n",
       "      <td>SAWANTWADI ROAD</td>\n",
       "    </tr>\n",
       "    <tr>\n",
       "      <th>2</th>\n",
       "      <td>128</td>\n",
       "      <td>MAO-KOP SPEC</td>\n",
       "      <td>MADGOAN JN.</td>\n",
       "      <td>CHHATRAPATI SHAHU MAHARAJ TERMINUS</td>\n",
       "    </tr>\n",
       "    <tr>\n",
       "      <th>3</th>\n",
       "      <td>290</td>\n",
       "      <td>PALACE ON WH</td>\n",
       "      <td>DELHI-SAFDAR JANG</td>\n",
       "      <td>DELHI-SAFDAR JANG</td>\n",
       "    </tr>\n",
       "    <tr>\n",
       "      <th>4</th>\n",
       "      <td>401</td>\n",
       "      <td>BSB BHARATDA</td>\n",
       "      <td>AURANGABAD</td>\n",
       "      <td>VARANASI JN.</td>\n",
       "    </tr>\n",
       "  </tbody>\n",
       "</table>\n",
       "</div>"
      ],
      "text/plain": [
       "   Train_No    Train_Name Source_Station_Name  \\\n",
       "0       107  SWV-MAO-VLNK     SAWANTWADI ROAD   \n",
       "1       108  VLNK-MAO-SWV         MADGOAN JN.   \n",
       "2       128  MAO-KOP SPEC         MADGOAN JN.   \n",
       "3       290  PALACE ON WH   DELHI-SAFDAR JANG   \n",
       "4       401  BSB BHARATDA          AURANGABAD   \n",
       "\n",
       "             Destination_Station_Name  \n",
       "0                         MADGOAN JN.  \n",
       "1                     SAWANTWADI ROAD  \n",
       "2  CHHATRAPATI SHAHU MAHARAJ TERMINUS  \n",
       "3                   DELHI-SAFDAR JANG  \n",
       "4                        VARANASI JN.  "
      ]
     },
     "execution_count": 4,
     "metadata": {},
     "output_type": "execute_result"
    }
   ],
   "source": [
    "df.head()"
   ]
  },
  {
   "cell_type": "code",
   "execution_count": 5,
   "id": "fbdade0a-2a6d-4d77-bf08-e9a3b21ff52f",
   "metadata": {},
   "outputs": [
    {
     "data": {
      "text/html": [
       "<div>\n",
       "<style scoped>\n",
       "    .dataframe tbody tr th:only-of-type {\n",
       "        vertical-align: middle;\n",
       "    }\n",
       "\n",
       "    .dataframe tbody tr th {\n",
       "        vertical-align: top;\n",
       "    }\n",
       "\n",
       "    .dataframe thead th {\n",
       "        text-align: right;\n",
       "    }\n",
       "</style>\n",
       "<table border=\"1\" class=\"dataframe\">\n",
       "  <thead>\n",
       "    <tr style=\"text-align: right;\">\n",
       "      <th></th>\n",
       "      <th>SN</th>\n",
       "      <th>Station_Code</th>\n",
       "      <th>1A</th>\n",
       "      <th>2A</th>\n",
       "      <th>3A</th>\n",
       "      <th>SL</th>\n",
       "      <th>Station_Name</th>\n",
       "      <th>Route_Number</th>\n",
       "      <th>Arrival_time</th>\n",
       "      <th>Departure_Time</th>\n",
       "      <th>Distance</th>\n",
       "    </tr>\n",
       "  </thead>\n",
       "  <tbody>\n",
       "    <tr>\n",
       "      <th>0</th>\n",
       "      <td>1</td>\n",
       "      <td>SWV</td>\n",
       "      <td>100</td>\n",
       "      <td>100</td>\n",
       "      <td>100</td>\n",
       "      <td>100</td>\n",
       "      <td>SAWANTWADI R</td>\n",
       "      <td>1</td>\n",
       "      <td>00:00:00</td>\n",
       "      <td>10:25:00</td>\n",
       "      <td>0</td>\n",
       "    </tr>\n",
       "    <tr>\n",
       "      <th>1</th>\n",
       "      <td>2</td>\n",
       "      <td>THVM</td>\n",
       "      <td>260</td>\n",
       "      <td>228</td>\n",
       "      <td>196</td>\n",
       "      <td>164</td>\n",
       "      <td>THIVIM</td>\n",
       "      <td>1</td>\n",
       "      <td>11:06:00</td>\n",
       "      <td>11:08:00</td>\n",
       "      <td>32</td>\n",
       "    </tr>\n",
       "    <tr>\n",
       "      <th>2</th>\n",
       "      <td>3</td>\n",
       "      <td>KRMI</td>\n",
       "      <td>345</td>\n",
       "      <td>296</td>\n",
       "      <td>247</td>\n",
       "      <td>198</td>\n",
       "      <td>KARMALI</td>\n",
       "      <td>1</td>\n",
       "      <td>11:28:00</td>\n",
       "      <td>11:30:00</td>\n",
       "      <td>49</td>\n",
       "    </tr>\n",
       "    <tr>\n",
       "      <th>3</th>\n",
       "      <td>4</td>\n",
       "      <td>MAO</td>\n",
       "      <td>490</td>\n",
       "      <td>412</td>\n",
       "      <td>334</td>\n",
       "      <td>256</td>\n",
       "      <td>MADGOAN JN.</td>\n",
       "      <td>1</td>\n",
       "      <td>12:10:00</td>\n",
       "      <td>00:00:00</td>\n",
       "      <td>78</td>\n",
       "    </tr>\n",
       "    <tr>\n",
       "      <th>4</th>\n",
       "      <td>1</td>\n",
       "      <td>MAO</td>\n",
       "      <td>100</td>\n",
       "      <td>100</td>\n",
       "      <td>100</td>\n",
       "      <td>100</td>\n",
       "      <td>MADGOAN JN.</td>\n",
       "      <td>1</td>\n",
       "      <td>00:00:00</td>\n",
       "      <td>20:30:00</td>\n",
       "      <td>0</td>\n",
       "    </tr>\n",
       "  </tbody>\n",
       "</table>\n",
       "</div>"
      ],
      "text/plain": [
       "   SN Station_Code   1A   2A   3A   SL  Station_Name  Route_Number  \\\n",
       "0   1          SWV  100  100  100  100  SAWANTWADI R             1   \n",
       "1   2         THVM  260  228  196  164        THIVIM             1   \n",
       "2   3         KRMI  345  296  247  198       KARMALI             1   \n",
       "3   4          MAO  490  412  334  256   MADGOAN JN.             1   \n",
       "4   1          MAO  100  100  100  100   MADGOAN JN.             1   \n",
       "\n",
       "  Arrival_time Departure_Time  Distance  \n",
       "0     00:00:00       10:25:00         0  \n",
       "1     11:06:00       11:08:00        32  \n",
       "2     11:28:00       11:30:00        49  \n",
       "3     12:10:00       00:00:00        78  \n",
       "4     00:00:00       20:30:00         0  "
      ]
     },
     "execution_count": 5,
     "metadata": {},
     "output_type": "execute_result"
    }
   ],
   "source": [
    "df2.head()"
   ]
  },
  {
   "cell_type": "code",
   "execution_count": 6,
   "id": "68270bcb-ab12-4482-bf2d-a4fbec4c6d56",
   "metadata": {},
   "outputs": [],
   "source": [
    "# Concatenate along the columns\n",
    "final_df = pd.concat([df, df2], axis=1)"
   ]
  },
  {
   "cell_type": "code",
   "execution_count": 7,
   "id": "4d2f2448-4b5c-4755-8e98-a96f169dc374",
   "metadata": {},
   "outputs": [
    {
     "data": {
      "text/html": [
       "<div>\n",
       "<style scoped>\n",
       "    .dataframe tbody tr th:only-of-type {\n",
       "        vertical-align: middle;\n",
       "    }\n",
       "\n",
       "    .dataframe tbody tr th {\n",
       "        vertical-align: top;\n",
       "    }\n",
       "\n",
       "    .dataframe thead th {\n",
       "        text-align: right;\n",
       "    }\n",
       "</style>\n",
       "<table border=\"1\" class=\"dataframe\">\n",
       "  <thead>\n",
       "    <tr style=\"text-align: right;\">\n",
       "      <th></th>\n",
       "      <th>Train_No</th>\n",
       "      <th>Train_Name</th>\n",
       "      <th>Source_Station_Name</th>\n",
       "      <th>Destination_Station_Name</th>\n",
       "      <th>SN</th>\n",
       "      <th>Station_Code</th>\n",
       "      <th>1A</th>\n",
       "      <th>2A</th>\n",
       "      <th>3A</th>\n",
       "      <th>SL</th>\n",
       "      <th>Station_Name</th>\n",
       "      <th>Route_Number</th>\n",
       "      <th>Arrival_time</th>\n",
       "      <th>Departure_Time</th>\n",
       "      <th>Distance</th>\n",
       "    </tr>\n",
       "  </thead>\n",
       "  <tbody>\n",
       "    <tr>\n",
       "      <th>0</th>\n",
       "      <td>107.0</td>\n",
       "      <td>SWV-MAO-VLNK</td>\n",
       "      <td>SAWANTWADI ROAD</td>\n",
       "      <td>MADGOAN JN.</td>\n",
       "      <td>1</td>\n",
       "      <td>SWV</td>\n",
       "      <td>100</td>\n",
       "      <td>100</td>\n",
       "      <td>100</td>\n",
       "      <td>100</td>\n",
       "      <td>SAWANTWADI R</td>\n",
       "      <td>1</td>\n",
       "      <td>00:00:00</td>\n",
       "      <td>10:25:00</td>\n",
       "      <td>0</td>\n",
       "    </tr>\n",
       "    <tr>\n",
       "      <th>1</th>\n",
       "      <td>108.0</td>\n",
       "      <td>VLNK-MAO-SWV</td>\n",
       "      <td>MADGOAN JN.</td>\n",
       "      <td>SAWANTWADI ROAD</td>\n",
       "      <td>2</td>\n",
       "      <td>THVM</td>\n",
       "      <td>260</td>\n",
       "      <td>228</td>\n",
       "      <td>196</td>\n",
       "      <td>164</td>\n",
       "      <td>THIVIM</td>\n",
       "      <td>1</td>\n",
       "      <td>11:06:00</td>\n",
       "      <td>11:08:00</td>\n",
       "      <td>32</td>\n",
       "    </tr>\n",
       "    <tr>\n",
       "      <th>2</th>\n",
       "      <td>128.0</td>\n",
       "      <td>MAO-KOP SPEC</td>\n",
       "      <td>MADGOAN JN.</td>\n",
       "      <td>CHHATRAPATI SHAHU MAHARAJ TERMINUS</td>\n",
       "      <td>3</td>\n",
       "      <td>KRMI</td>\n",
       "      <td>345</td>\n",
       "      <td>296</td>\n",
       "      <td>247</td>\n",
       "      <td>198</td>\n",
       "      <td>KARMALI</td>\n",
       "      <td>1</td>\n",
       "      <td>11:28:00</td>\n",
       "      <td>11:30:00</td>\n",
       "      <td>49</td>\n",
       "    </tr>\n",
       "    <tr>\n",
       "      <th>3</th>\n",
       "      <td>290.0</td>\n",
       "      <td>PALACE ON WH</td>\n",
       "      <td>DELHI-SAFDAR JANG</td>\n",
       "      <td>DELHI-SAFDAR JANG</td>\n",
       "      <td>4</td>\n",
       "      <td>MAO</td>\n",
       "      <td>490</td>\n",
       "      <td>412</td>\n",
       "      <td>334</td>\n",
       "      <td>256</td>\n",
       "      <td>MADGOAN JN.</td>\n",
       "      <td>1</td>\n",
       "      <td>12:10:00</td>\n",
       "      <td>00:00:00</td>\n",
       "      <td>78</td>\n",
       "    </tr>\n",
       "    <tr>\n",
       "      <th>4</th>\n",
       "      <td>401.0</td>\n",
       "      <td>BSB BHARATDA</td>\n",
       "      <td>AURANGABAD</td>\n",
       "      <td>VARANASI JN.</td>\n",
       "      <td>1</td>\n",
       "      <td>MAO</td>\n",
       "      <td>100</td>\n",
       "      <td>100</td>\n",
       "      <td>100</td>\n",
       "      <td>100</td>\n",
       "      <td>MADGOAN JN.</td>\n",
       "      <td>1</td>\n",
       "      <td>00:00:00</td>\n",
       "      <td>20:30:00</td>\n",
       "      <td>0</td>\n",
       "    </tr>\n",
       "  </tbody>\n",
       "</table>\n",
       "</div>"
      ],
      "text/plain": [
       "   Train_No    Train_Name Source_Station_Name  \\\n",
       "0     107.0  SWV-MAO-VLNK     SAWANTWADI ROAD   \n",
       "1     108.0  VLNK-MAO-SWV         MADGOAN JN.   \n",
       "2     128.0  MAO-KOP SPEC         MADGOAN JN.   \n",
       "3     290.0  PALACE ON WH   DELHI-SAFDAR JANG   \n",
       "4     401.0  BSB BHARATDA          AURANGABAD   \n",
       "\n",
       "             Destination_Station_Name  SN Station_Code   1A   2A   3A   SL  \\\n",
       "0                         MADGOAN JN.   1          SWV  100  100  100  100   \n",
       "1                     SAWANTWADI ROAD   2         THVM  260  228  196  164   \n",
       "2  CHHATRAPATI SHAHU MAHARAJ TERMINUS   3         KRMI  345  296  247  198   \n",
       "3                   DELHI-SAFDAR JANG   4          MAO  490  412  334  256   \n",
       "4                        VARANASI JN.   1          MAO  100  100  100  100   \n",
       "\n",
       "   Station_Name  Route_Number Arrival_time Departure_Time  Distance  \n",
       "0  SAWANTWADI R             1     00:00:00       10:25:00         0  \n",
       "1        THIVIM             1     11:06:00       11:08:00        32  \n",
       "2       KARMALI             1     11:28:00       11:30:00        49  \n",
       "3   MADGOAN JN.             1     12:10:00       00:00:00        78  \n",
       "4   MADGOAN JN.             1     00:00:00       20:30:00         0  "
      ]
     },
     "execution_count": 7,
     "metadata": {},
     "output_type": "execute_result"
    }
   ],
   "source": [
    "final_df.head()"
   ]
  },
  {
   "cell_type": "code",
   "execution_count": 8,
   "id": "30edafc7-b570-47b7-ab53-f0c77c5b9f59",
   "metadata": {},
   "outputs": [
    {
     "name": "stdout",
     "output_type": "stream",
     "text": [
      "<class 'pandas.core.frame.DataFrame'>\n",
      "RangeIndex: 186074 entries, 0 to 186073\n",
      "Data columns (total 15 columns):\n",
      " #   Column                    Non-Null Count   Dtype  \n",
      "---  ------                    --------------   -----  \n",
      " 0   Train_No                  11113 non-null   float64\n",
      " 1   Train_Name                11113 non-null   object \n",
      " 2   Source_Station_Name       11113 non-null   object \n",
      " 3   Destination_Station_Name  11113 non-null   object \n",
      " 4   SN                        186074 non-null  int64  \n",
      " 5   Station_Code              186074 non-null  object \n",
      " 6   1A                        186074 non-null  int64  \n",
      " 7   2A                        186074 non-null  int64  \n",
      " 8   3A                        186074 non-null  int64  \n",
      " 9   SL                        186074 non-null  int64  \n",
      " 10  Station_Name              186074 non-null  object \n",
      " 11  Route_Number              186074 non-null  int64  \n",
      " 12  Arrival_time              186074 non-null  object \n",
      " 13  Departure_Time            186074 non-null  object \n",
      " 14  Distance                  186074 non-null  int64  \n",
      "dtypes: float64(1), int64(7), object(7)\n",
      "memory usage: 21.3+ MB\n"
     ]
    }
   ],
   "source": [
    "final_df.info()"
   ]
  },
  {
   "cell_type": "code",
   "execution_count": 9,
   "id": "ecb68608-bbcc-4ead-ada9-73097648d98f",
   "metadata": {},
   "outputs": [
    {
     "data": {
      "text/html": [
       "<div>\n",
       "<style scoped>\n",
       "    .dataframe tbody tr th:only-of-type {\n",
       "        vertical-align: middle;\n",
       "    }\n",
       "\n",
       "    .dataframe tbody tr th {\n",
       "        vertical-align: top;\n",
       "    }\n",
       "\n",
       "    .dataframe thead th {\n",
       "        text-align: right;\n",
       "    }\n",
       "</style>\n",
       "<table border=\"1\" class=\"dataframe\">\n",
       "  <thead>\n",
       "    <tr style=\"text-align: right;\">\n",
       "      <th></th>\n",
       "      <th>Train_No</th>\n",
       "      <th>SN</th>\n",
       "      <th>1A</th>\n",
       "      <th>2A</th>\n",
       "      <th>3A</th>\n",
       "      <th>SL</th>\n",
       "      <th>Route_Number</th>\n",
       "      <th>Distance</th>\n",
       "    </tr>\n",
       "  </thead>\n",
       "  <tbody>\n",
       "    <tr>\n",
       "      <th>count</th>\n",
       "      <td>11113.000000</td>\n",
       "      <td>186074.000000</td>\n",
       "      <td>186074.000000</td>\n",
       "      <td>186074.000000</td>\n",
       "      <td>186074.000000</td>\n",
       "      <td>186074.000000</td>\n",
       "      <td>186074.0</td>\n",
       "      <td>186074.000000</td>\n",
       "    </tr>\n",
       "    <tr>\n",
       "      <th>mean</th>\n",
       "      <td>49190.570413</td>\n",
       "      <td>13.914695</td>\n",
       "      <td>1506.769189</td>\n",
       "      <td>1225.415351</td>\n",
       "      <td>944.061513</td>\n",
       "      <td>662.735777</td>\n",
       "      <td>1.0</td>\n",
       "      <td>281.353838</td>\n",
       "    </tr>\n",
       "    <tr>\n",
       "      <th>std</th>\n",
       "      <td>28515.986645</td>\n",
       "      <td>12.779368</td>\n",
       "      <td>2418.719821</td>\n",
       "      <td>1934.975856</td>\n",
       "      <td>1451.231892</td>\n",
       "      <td>967.524012</td>\n",
       "      <td>0.0</td>\n",
       "      <td>483.743964</td>\n",
       "    </tr>\n",
       "    <tr>\n",
       "      <th>min</th>\n",
       "      <td>107.000000</td>\n",
       "      <td>1.000000</td>\n",
       "      <td>100.000000</td>\n",
       "      <td>100.000000</td>\n",
       "      <td>100.000000</td>\n",
       "      <td>100.000000</td>\n",
       "      <td>1.0</td>\n",
       "      <td>0.000000</td>\n",
       "    </tr>\n",
       "    <tr>\n",
       "      <th>25%</th>\n",
       "      <td>22607.000000</td>\n",
       "      <td>5.000000</td>\n",
       "      <td>215.000000</td>\n",
       "      <td>192.000000</td>\n",
       "      <td>169.000000</td>\n",
       "      <td>146.000000</td>\n",
       "      <td>1.0</td>\n",
       "      <td>23.000000</td>\n",
       "    </tr>\n",
       "    <tr>\n",
       "      <th>50%</th>\n",
       "      <td>47174.000000</td>\n",
       "      <td>11.000000</td>\n",
       "      <td>465.000000</td>\n",
       "      <td>392.000000</td>\n",
       "      <td>319.000000</td>\n",
       "      <td>246.000000</td>\n",
       "      <td>1.0</td>\n",
       "      <td>73.000000</td>\n",
       "    </tr>\n",
       "    <tr>\n",
       "      <th>75%</th>\n",
       "      <td>68012.000000</td>\n",
       "      <td>18.000000</td>\n",
       "      <td>1555.000000</td>\n",
       "      <td>1264.000000</td>\n",
       "      <td>973.000000</td>\n",
       "      <td>682.000000</td>\n",
       "      <td>1.0</td>\n",
       "      <td>291.000000</td>\n",
       "    </tr>\n",
       "    <tr>\n",
       "      <th>max</th>\n",
       "      <td>99908.000000</td>\n",
       "      <td>118.000000</td>\n",
       "      <td>21400.000000</td>\n",
       "      <td>17140.000000</td>\n",
       "      <td>12880.000000</td>\n",
       "      <td>8620.000000</td>\n",
       "      <td>1.0</td>\n",
       "      <td>4260.000000</td>\n",
       "    </tr>\n",
       "  </tbody>\n",
       "</table>\n",
       "</div>"
      ],
      "text/plain": [
       "           Train_No             SN             1A             2A  \\\n",
       "count  11113.000000  186074.000000  186074.000000  186074.000000   \n",
       "mean   49190.570413      13.914695    1506.769189    1225.415351   \n",
       "std    28515.986645      12.779368    2418.719821    1934.975856   \n",
       "min      107.000000       1.000000     100.000000     100.000000   \n",
       "25%    22607.000000       5.000000     215.000000     192.000000   \n",
       "50%    47174.000000      11.000000     465.000000     392.000000   \n",
       "75%    68012.000000      18.000000    1555.000000    1264.000000   \n",
       "max    99908.000000     118.000000   21400.000000   17140.000000   \n",
       "\n",
       "                  3A             SL  Route_Number       Distance  \n",
       "count  186074.000000  186074.000000      186074.0  186074.000000  \n",
       "mean      944.061513     662.735777           1.0     281.353838  \n",
       "std      1451.231892     967.524012           0.0     483.743964  \n",
       "min       100.000000     100.000000           1.0       0.000000  \n",
       "25%       169.000000     146.000000           1.0      23.000000  \n",
       "50%       319.000000     246.000000           1.0      73.000000  \n",
       "75%       973.000000     682.000000           1.0     291.000000  \n",
       "max     12880.000000    8620.000000           1.0    4260.000000  "
      ]
     },
     "execution_count": 9,
     "metadata": {},
     "output_type": "execute_result"
    }
   ],
   "source": [
    "final_df.describe()"
   ]
  },
  {
   "cell_type": "code",
   "execution_count": 10,
   "id": "54f6b07b-01c6-4eaf-8d2b-0464bbf4d753",
   "metadata": {},
   "outputs": [
    {
     "name": "stdout",
     "output_type": "stream",
     "text": [
      "<class 'pandas.core.frame.DataFrame'>\n",
      "RangeIndex: 186074 entries, 0 to 186073\n",
      "Data columns (total 15 columns):\n",
      " #   Column                    Non-Null Count   Dtype  \n",
      "---  ------                    --------------   -----  \n",
      " 0   Train_No                  11113 non-null   float64\n",
      " 1   Train_Name                11113 non-null   object \n",
      " 2   Source_Station_Name       11113 non-null   object \n",
      " 3   Destination_Station_Name  11113 non-null   object \n",
      " 4   SN                        186074 non-null  int64  \n",
      " 5   Station_Code              186074 non-null  object \n",
      " 6   1A                        186074 non-null  int64  \n",
      " 7   2A                        186074 non-null  int64  \n",
      " 8   3A                        186074 non-null  int64  \n",
      " 9   SL                        186074 non-null  int64  \n",
      " 10  Station_Name              186074 non-null  object \n",
      " 11  Route_Number              186074 non-null  int64  \n",
      " 12  Arrival_time              186074 non-null  object \n",
      " 13  Departure_Time            186074 non-null  object \n",
      " 14  Distance                  186074 non-null  int64  \n",
      "dtypes: float64(1), int64(7), object(7)\n",
      "memory usage: 21.3+ MB\n"
     ]
    }
   ],
   "source": [
    "final_df.info()\n"
   ]
  },
  {
   "cell_type": "code",
   "execution_count": 11,
   "id": "d17ff750-f394-4cac-b93f-d4c3ab9423b2",
   "metadata": {},
   "outputs": [
    {
     "data": {
      "text/plain": [
       "Train_No                    174961\n",
       "Train_Name                  174961\n",
       "Source_Station_Name         174961\n",
       "Destination_Station_Name    174961\n",
       "SN                               0\n",
       "Station_Code                     0\n",
       "1A                               0\n",
       "2A                               0\n",
       "3A                               0\n",
       "SL                               0\n",
       "Station_Name                     0\n",
       "Route_Number                     0\n",
       "Arrival_time                     0\n",
       "Departure_Time                   0\n",
       "Distance                         0\n",
       "dtype: int64"
      ]
     },
     "execution_count": 11,
     "metadata": {},
     "output_type": "execute_result"
    }
   ],
   "source": [
    "final_df.isnull().sum()"
   ]
  },
  {
   "cell_type": "markdown",
   "id": "b354ef74-33ce-45c5-8698-9a6ba24e7dfb",
   "metadata": {},
   "source": [
    "                                   #Handling the Null values"
   ]
  },
  {
   "cell_type": "code",
   "execution_count": 12,
   "id": "5253284e-44f4-41f3-b61c-93c49970252e",
   "metadata": {},
   "outputs": [],
   "source": [
    "final_df[\"Train_No\"]=final_df[\"Train_No\"].fillna(final_df[\"Train_No\"].mode()[0])\n",
    "final_df[\"Train_Name\"]=final_df[\"Train_Name\"].fillna(final_df[\"Train_Name\"].mode()[0])\n",
    "final_df[\"Source_Station_Name\"]=final_df[\"Source_Station_Name\"].fillna(final_df[\"Source_Station_Name\"].mode()[0])\n",
    "final_df[\"Destination_Station_Name\"]=final_df[\"Destination_Station_Name\"].fillna(final_df[\"Destination_Station_Name\"].mode()[0])"
   ]
  },
  {
   "cell_type": "code",
   "execution_count": 13,
   "id": "f5452e27-3714-48c2-a220-323bcd095279",
   "metadata": {},
   "outputs": [
    {
     "data": {
      "text/html": [
       "<div>\n",
       "<style scoped>\n",
       "    .dataframe tbody tr th:only-of-type {\n",
       "        vertical-align: middle;\n",
       "    }\n",
       "\n",
       "    .dataframe tbody tr th {\n",
       "        vertical-align: top;\n",
       "    }\n",
       "\n",
       "    .dataframe thead th {\n",
       "        text-align: right;\n",
       "    }\n",
       "</style>\n",
       "<table border=\"1\" class=\"dataframe\">\n",
       "  <thead>\n",
       "    <tr style=\"text-align: right;\">\n",
       "      <th></th>\n",
       "      <th>Train_No</th>\n",
       "      <th>Train_Name</th>\n",
       "      <th>Source_Station_Name</th>\n",
       "      <th>Destination_Station_Name</th>\n",
       "      <th>SN</th>\n",
       "      <th>Station_Code</th>\n",
       "      <th>1A</th>\n",
       "      <th>2A</th>\n",
       "      <th>3A</th>\n",
       "      <th>SL</th>\n",
       "      <th>Station_Name</th>\n",
       "      <th>Route_Number</th>\n",
       "      <th>Arrival_time</th>\n",
       "      <th>Departure_Time</th>\n",
       "      <th>Distance</th>\n",
       "    </tr>\n",
       "  </thead>\n",
       "  <tbody>\n",
       "    <tr>\n",
       "      <th>0</th>\n",
       "      <td>107.0</td>\n",
       "      <td>SWV-MAO-VLNK</td>\n",
       "      <td>SAWANTWADI ROAD</td>\n",
       "      <td>MADGOAN JN.</td>\n",
       "      <td>1</td>\n",
       "      <td>SWV</td>\n",
       "      <td>100</td>\n",
       "      <td>100</td>\n",
       "      <td>100</td>\n",
       "      <td>100</td>\n",
       "      <td>SAWANTWADI R</td>\n",
       "      <td>1</td>\n",
       "      <td>00:00:00</td>\n",
       "      <td>10:25:00</td>\n",
       "      <td>0</td>\n",
       "    </tr>\n",
       "    <tr>\n",
       "      <th>1</th>\n",
       "      <td>108.0</td>\n",
       "      <td>VLNK-MAO-SWV</td>\n",
       "      <td>MADGOAN JN.</td>\n",
       "      <td>SAWANTWADI ROAD</td>\n",
       "      <td>2</td>\n",
       "      <td>THVM</td>\n",
       "      <td>260</td>\n",
       "      <td>228</td>\n",
       "      <td>196</td>\n",
       "      <td>164</td>\n",
       "      <td>THIVIM</td>\n",
       "      <td>1</td>\n",
       "      <td>11:06:00</td>\n",
       "      <td>11:08:00</td>\n",
       "      <td>32</td>\n",
       "    </tr>\n",
       "    <tr>\n",
       "      <th>2</th>\n",
       "      <td>128.0</td>\n",
       "      <td>MAO-KOP SPEC</td>\n",
       "      <td>MADGOAN JN.</td>\n",
       "      <td>CHHATRAPATI SHAHU MAHARAJ TERMINUS</td>\n",
       "      <td>3</td>\n",
       "      <td>KRMI</td>\n",
       "      <td>345</td>\n",
       "      <td>296</td>\n",
       "      <td>247</td>\n",
       "      <td>198</td>\n",
       "      <td>KARMALI</td>\n",
       "      <td>1</td>\n",
       "      <td>11:28:00</td>\n",
       "      <td>11:30:00</td>\n",
       "      <td>49</td>\n",
       "    </tr>\n",
       "    <tr>\n",
       "      <th>3</th>\n",
       "      <td>290.0</td>\n",
       "      <td>PALACE ON WH</td>\n",
       "      <td>DELHI-SAFDAR JANG</td>\n",
       "      <td>DELHI-SAFDAR JANG</td>\n",
       "      <td>4</td>\n",
       "      <td>MAO</td>\n",
       "      <td>490</td>\n",
       "      <td>412</td>\n",
       "      <td>334</td>\n",
       "      <td>256</td>\n",
       "      <td>MADGOAN JN.</td>\n",
       "      <td>1</td>\n",
       "      <td>12:10:00</td>\n",
       "      <td>00:00:00</td>\n",
       "      <td>78</td>\n",
       "    </tr>\n",
       "    <tr>\n",
       "      <th>4</th>\n",
       "      <td>401.0</td>\n",
       "      <td>BSB BHARATDA</td>\n",
       "      <td>AURANGABAD</td>\n",
       "      <td>VARANASI JN.</td>\n",
       "      <td>1</td>\n",
       "      <td>MAO</td>\n",
       "      <td>100</td>\n",
       "      <td>100</td>\n",
       "      <td>100</td>\n",
       "      <td>100</td>\n",
       "      <td>MADGOAN JN.</td>\n",
       "      <td>1</td>\n",
       "      <td>00:00:00</td>\n",
       "      <td>20:30:00</td>\n",
       "      <td>0</td>\n",
       "    </tr>\n",
       "  </tbody>\n",
       "</table>\n",
       "</div>"
      ],
      "text/plain": [
       "   Train_No    Train_Name Source_Station_Name  \\\n",
       "0     107.0  SWV-MAO-VLNK     SAWANTWADI ROAD   \n",
       "1     108.0  VLNK-MAO-SWV         MADGOAN JN.   \n",
       "2     128.0  MAO-KOP SPEC         MADGOAN JN.   \n",
       "3     290.0  PALACE ON WH   DELHI-SAFDAR JANG   \n",
       "4     401.0  BSB BHARATDA          AURANGABAD   \n",
       "\n",
       "             Destination_Station_Name  SN Station_Code   1A   2A   3A   SL  \\\n",
       "0                         MADGOAN JN.   1          SWV  100  100  100  100   \n",
       "1                     SAWANTWADI ROAD   2         THVM  260  228  196  164   \n",
       "2  CHHATRAPATI SHAHU MAHARAJ TERMINUS   3         KRMI  345  296  247  198   \n",
       "3                   DELHI-SAFDAR JANG   4          MAO  490  412  334  256   \n",
       "4                        VARANASI JN.   1          MAO  100  100  100  100   \n",
       "\n",
       "   Station_Name  Route_Number Arrival_time Departure_Time  Distance  \n",
       "0  SAWANTWADI R             1     00:00:00       10:25:00         0  \n",
       "1        THIVIM             1     11:06:00       11:08:00        32  \n",
       "2       KARMALI             1     11:28:00       11:30:00        49  \n",
       "3   MADGOAN JN.             1     12:10:00       00:00:00        78  \n",
       "4   MADGOAN JN.             1     00:00:00       20:30:00         0  "
      ]
     },
     "execution_count": 13,
     "metadata": {},
     "output_type": "execute_result"
    }
   ],
   "source": [
    "final_df.head()"
   ]
  },
  {
   "cell_type": "code",
   "execution_count": 14,
   "id": "569c006c-ba79-45ae-8839-c1fa9320cbbd",
   "metadata": {},
   "outputs": [
    {
     "data": {
      "text/plain": [
       "SN                 int64\n",
       "Station_Code      object\n",
       "1A                 int64\n",
       "2A                 int64\n",
       "3A                 int64\n",
       "SL                 int64\n",
       "Station_Name      object\n",
       "Route_Number       int64\n",
       "Arrival_time      object\n",
       "Departure_Time    object\n",
       "Distance           int64\n",
       "dtype: object"
      ]
     },
     "execution_count": 14,
     "metadata": {},
     "output_type": "execute_result"
    }
   ],
   "source": [
    "df.dtypes\n",
    "df2.dtypes"
   ]
  },
  {
   "cell_type": "markdown",
   "id": "84ced16c-b420-4919-81b2-305c0260677b",
   "metadata": {},
   "source": [
    "                                  #Univariate Analysis"
   ]
  },
  {
   "cell_type": "code",
   "execution_count": 15,
   "id": "8c87b498-d52a-49cc-b337-de29366610c9",
   "metadata": {},
   "outputs": [
    {
     "data": {
      "text/plain": [
       "<Axes: xlabel='Train_No', ylabel='Count'>"
      ]
     },
     "execution_count": 15,
     "metadata": {},
     "output_type": "execute_result"
    },
    {
     "data": {
      "image/png": "[encoded data removed]",
      "text/plain": [
       "<Figure size 640x480 with 1 Axes>"
      ]
     },
     "metadata": {},
     "output_type": "display_data"
    }
   ],
   "source": [
    "#Train_No and Train_Name\n",
    "sns.histplot(final_df[\"Train_No\"],bins=20)"
   ]
  },
  {
   "cell_type": "code",
   "execution_count": 16,
   "id": "e1c503f5-3f37-4624-b3a2-f2856708222f",
   "metadata": {},
   "outputs": [
    {
     "data": {
      "text/plain": [
       "7580"
      ]
     },
     "execution_count": 16,
     "metadata": {},
     "output_type": "execute_result"
    }
   ],
   "source": [
    "final_df[\"Train_Name\"].nunique()"
   ]
  },
  {
   "cell_type": "markdown",
   "id": "7031b218-2e45-45ce-8121-b941071fed90",
   "metadata": {},
   "source": [
    "                                        #Conclusion\n",
    "                                        1.Train no. has some missing values before but we have handled that and \n",
    "                                        remove all the null values from the data set.\n",
    "                                        2.Majority Count of Train_no fall from 0-2200.\n",
    "                                        3.There are 7580 unique name of Train means only one train has one name,that is obvious.\n",
    "                                        "
   ]
  },
  {
   "cell_type": "code",
   "execution_count": 17,
   "id": "49f08af6-e111-4f5e-a1cd-e2920cdc8d39",
   "metadata": {},
   "outputs": [
    {
     "data": {
      "text/html": [
       "<div>\n",
       "<style scoped>\n",
       "    .dataframe tbody tr th:only-of-type {\n",
       "        vertical-align: middle;\n",
       "    }\n",
       "\n",
       "    .dataframe tbody tr th {\n",
       "        vertical-align: top;\n",
       "    }\n",
       "\n",
       "    .dataframe thead th {\n",
       "        text-align: right;\n",
       "    }\n",
       "</style>\n",
       "<table border=\"1\" class=\"dataframe\">\n",
       "  <thead>\n",
       "    <tr style=\"text-align: right;\">\n",
       "      <th></th>\n",
       "      <th>Train_No</th>\n",
       "      <th>Train_Name</th>\n",
       "      <th>Source_Station_Name</th>\n",
       "      <th>Destination_Station_Name</th>\n",
       "      <th>SN</th>\n",
       "      <th>Station_Code</th>\n",
       "      <th>1A</th>\n",
       "      <th>2A</th>\n",
       "      <th>3A</th>\n",
       "      <th>SL</th>\n",
       "      <th>Station_Name</th>\n",
       "      <th>Route_Number</th>\n",
       "      <th>Arrival_time</th>\n",
       "      <th>Departure_Time</th>\n",
       "      <th>Distance</th>\n",
       "    </tr>\n",
       "  </thead>\n",
       "  <tbody>\n",
       "    <tr>\n",
       "      <th>0</th>\n",
       "      <td>107.0</td>\n",
       "      <td>SWV-MAO-VLNK</td>\n",
       "      <td>SAWANTWADI ROAD</td>\n",
       "      <td>MADGOAN JN.</td>\n",
       "      <td>1</td>\n",
       "      <td>SWV</td>\n",
       "      <td>100</td>\n",
       "      <td>100</td>\n",
       "      <td>100</td>\n",
       "      <td>100</td>\n",
       "      <td>SAWANTWADI R</td>\n",
       "      <td>1</td>\n",
       "      <td>00:00:00</td>\n",
       "      <td>10:25:00</td>\n",
       "      <td>0</td>\n",
       "    </tr>\n",
       "    <tr>\n",
       "      <th>1</th>\n",
       "      <td>108.0</td>\n",
       "      <td>VLNK-MAO-SWV</td>\n",
       "      <td>MADGOAN JN.</td>\n",
       "      <td>SAWANTWADI ROAD</td>\n",
       "      <td>2</td>\n",
       "      <td>THVM</td>\n",
       "      <td>260</td>\n",
       "      <td>228</td>\n",
       "      <td>196</td>\n",
       "      <td>164</td>\n",
       "      <td>THIVIM</td>\n",
       "      <td>1</td>\n",
       "      <td>11:06:00</td>\n",
       "      <td>11:08:00</td>\n",
       "      <td>32</td>\n",
       "    </tr>\n",
       "  </tbody>\n",
       "</table>\n",
       "</div>"
      ],
      "text/plain": [
       "   Train_No    Train_Name Source_Station_Name Destination_Station_Name  SN  \\\n",
       "0     107.0  SWV-MAO-VLNK     SAWANTWADI ROAD              MADGOAN JN.   1   \n",
       "1     108.0  VLNK-MAO-SWV         MADGOAN JN.          SAWANTWADI ROAD   2   \n",
       "\n",
       "  Station_Code   1A   2A   3A   SL  Station_Name  Route_Number Arrival_time  \\\n",
       "0          SWV  100  100  100  100  SAWANTWADI R             1     00:00:00   \n",
       "1         THVM  260  228  196  164        THIVIM             1     11:06:00   \n",
       "\n",
       "  Departure_Time  Distance  \n",
       "0       10:25:00         0  \n",
       "1       11:08:00        32  "
      ]
     },
     "execution_count": 17,
     "metadata": {},
     "output_type": "execute_result"
    }
   ],
   "source": [
    "final_df.head(2)"
   ]
  },
  {
   "cell_type": "code",
   "execution_count": 18,
   "id": "8a26227c-6029-4140-9d06-f9e146680bf1",
   "metadata": {},
   "outputs": [
    {
     "data": {
      "text/plain": [
       "count         186074\n",
       "unique           921\n",
       "top       CST-MUMBAI\n",
       "freq          175474\n",
       "Name: Source_Station_Name, dtype: object"
      ]
     },
     "execution_count": 18,
     "metadata": {},
     "output_type": "execute_result"
    }
   ],
   "source": [
    "final_df[\"Source_Station_Name\"].describe()"
   ]
  },
  {
   "cell_type": "code",
   "execution_count": 19,
   "id": "cbf2a86d-a270-487a-bc26-a7597fee4490",
   "metadata": {},
   "outputs": [],
   "source": [
    "lol=final_df[\"Source_Station_Name\"].value_counts().index"
   ]
  },
  {
   "cell_type": "code",
   "execution_count": 20,
   "id": "5108aeca-9246-4478-8ebd-7190b34a80b0",
   "metadata": {},
   "outputs": [],
   "source": [
    "values=final_df[\"Source_Station_Name\"].value_counts()"
   ]
  },
  {
   "cell_type": "code",
   "execution_count": 21,
   "id": "f6071452-eed9-4c19-964f-c9182fcabcc6",
   "metadata": {},
   "outputs": [
    {
     "data": {
      "text/plain": [
       "([<matplotlib.patches.Wedge at 0x1f71cc254c0>,\n",
       "  <matplotlib.patches.Wedge at 0x1f71a5b3050>,\n",
       "  <matplotlib.patches.Wedge at 0x1f71cbd25d0>],\n",
       " [Text(-1.0999115987693842, 0.013945425507217474, 'CST-MUMBAI'),\n",
       "  Text(1.0998072071344953, -0.020593861585952243, 'SEALDAH'),\n",
       "  Text(1.0999799033296336, -0.006649230852536361, 'CHENNAI BEACH')],\n",
       " [Text(-0.5999517811469368, 0.007606595731209529, '99.596%'),\n",
       "  Text(0.5998948402551793, -0.011233015410519404, '0.211%'),\n",
       "  Text(0.5999890381798, -0.00362685319229256, '0.192%')])"
      ]
     },
     "execution_count": 21,
     "metadata": {},
     "output_type": "execute_result"
    },
    {
     "data": {
      "image/png": "[encoded data removed]",
      "text/plain": [
       "<Figure size 640x480 with 1 Axes>"
      ]
     },
     "metadata": {},
     "output_type": "display_data"
    }
   ],
   "source": [
    "plt.pie(values[:3], labels=lol[:3], autopct=\"%1.3f%%\")"
   ]
  },
  {
   "cell_type": "code",
   "execution_count": 22,
   "id": "19084884-ec6c-450b-a736-28c19b7b3797",
   "metadata": {},
   "outputs": [
    {
     "data": {
      "text/plain": [
       "count         186074\n",
       "unique           924\n",
       "top       CST-MUMBAI\n",
       "freq          175475\n",
       "Name: Destination_Station_Name, dtype: object"
      ]
     },
     "execution_count": 22,
     "metadata": {},
     "output_type": "execute_result"
    }
   ],
   "source": [
    "final_df[\"Destination_Station_Name\"].describe()"
   ]
  },
  {
   "cell_type": "code",
   "execution_count": 23,
   "id": "ced9bce5-8f74-4de6-9f93-bfe03e60182e",
   "metadata": {},
   "outputs": [],
   "source": [
    "yo=final_df[\"Destination_Station_Name\"].value_counts().index"
   ]
  },
  {
   "cell_type": "code",
   "execution_count": 24,
   "id": "8149c643-6ecf-4ecc-abc6-3df2cd1f05ba",
   "metadata": {},
   "outputs": [],
   "source": [
    "ok=final_df[\"Destination_Station_Name\"].value_counts()"
   ]
  },
  {
   "cell_type": "code",
   "execution_count": 25,
   "id": "bc178be8-d7a8-4629-9d07-6352ed557aed",
   "metadata": {},
   "outputs": [
    {
     "data": {
      "text/plain": [
       "([<matplotlib.patches.Wedge at 0x1f71a948d70>,\n",
       "  <matplotlib.patches.Wedge at 0x1f71cbd3530>,\n",
       "  <matplotlib.patches.Wedge at 0x1f71a949730>],\n",
       " [Text(-1.0999106063054274, 0.014023485188326518, 'CST-MUMBAI'),\n",
       "  Text(1.0998046389020106, -0.020730563176576317, 'SEALDAH'),\n",
       "  Text(1.0999795471402072, -0.00670789633378678, 'CHENNAI BEACH')],\n",
       " [Text(-0.5999512398029604, 0.007649173739087191, '99.594%'),\n",
       "  Text(0.5998934394010966, -0.011307579914496171, '0.212%'),\n",
       "  Text(0.5999888438946583, -0.0036588525457018797, '0.194%')])"
      ]
     },
     "execution_count": 25,
     "metadata": {},
     "output_type": "execute_result"
    },
    {
     "data": {
      "image/png": "[encoded data removed]",
      "text/plain": [
       "<Figure size 640x480 with 1 Axes>"
      ]
     },
     "metadata": {},
     "output_type": "display_data"
    }
   ],
   "source": [
    "plt.pie(ok[:3], labels=yo[:3], autopct=\"%1.3f%%\")"
   ]
  },
  {
   "cell_type": "code",
   "execution_count": 26,
   "id": "7d96f99c-09d1-4f01-8427-47af9e83832c",
   "metadata": {},
   "outputs": [
    {
     "data": {
      "text/plain": [
       "921"
      ]
     },
     "execution_count": 26,
     "metadata": {},
     "output_type": "execute_result"
    }
   ],
   "source": [
    "final_df[\"Source_Station_Name\"].nunique()"
   ]
  },
  {
   "cell_type": "code",
   "execution_count": 27,
   "id": "7b5be5a1-ab41-41cf-ae4d-3fe8f1344640",
   "metadata": {},
   "outputs": [
    {
     "data": {
      "text/plain": [
       "924"
      ]
     },
     "execution_count": 27,
     "metadata": {},
     "output_type": "execute_result"
    }
   ],
   "source": [
    "final_df[\"Destination_Station_Name\"].nunique()"
   ]
  },
  {
   "cell_type": "markdown",
   "id": "056ff999-cd28-44ee-8edd-544252668866",
   "metadata": {},
   "source": [
    "                                        #Conclusion:->\n",
    "                                        1.The most common Source station is CST-MUMBAI.\n",
    "                                        2.The most common Destination station is also CST-MUMBAI.\n",
    "                                        3.There are 921 unique names of source station right now.\n",
    "                                        4.There are 924 unique name of Destination station right now."
   ]
  },
  {
   "cell_type": "code",
   "execution_count": 28,
   "id": "722ce511-fac1-40c9-a4b1-208a26ac7816",
   "metadata": {},
   "outputs": [
    {
     "data": {
      "text/html": [
       "<div>\n",
       "<style scoped>\n",
       "    .dataframe tbody tr th:only-of-type {\n",
       "        vertical-align: middle;\n",
       "    }\n",
       "\n",
       "    .dataframe tbody tr th {\n",
       "        vertical-align: top;\n",
       "    }\n",
       "\n",
       "    .dataframe thead th {\n",
       "        text-align: right;\n",
       "    }\n",
       "</style>\n",
       "<table border=\"1\" class=\"dataframe\">\n",
       "  <thead>\n",
       "    <tr style=\"text-align: right;\">\n",
       "      <th></th>\n",
       "      <th>Train_No</th>\n",
       "      <th>Train_Name</th>\n",
       "      <th>Source_Station_Name</th>\n",
       "      <th>Destination_Station_Name</th>\n",
       "      <th>SN</th>\n",
       "      <th>Station_Code</th>\n",
       "      <th>1A</th>\n",
       "      <th>2A</th>\n",
       "      <th>3A</th>\n",
       "      <th>SL</th>\n",
       "      <th>Station_Name</th>\n",
       "      <th>Route_Number</th>\n",
       "      <th>Arrival_time</th>\n",
       "      <th>Departure_Time</th>\n",
       "      <th>Distance</th>\n",
       "    </tr>\n",
       "  </thead>\n",
       "  <tbody>\n",
       "    <tr>\n",
       "      <th>0</th>\n",
       "      <td>107.0</td>\n",
       "      <td>SWV-MAO-VLNK</td>\n",
       "      <td>SAWANTWADI ROAD</td>\n",
       "      <td>MADGOAN JN.</td>\n",
       "      <td>1</td>\n",
       "      <td>SWV</td>\n",
       "      <td>100</td>\n",
       "      <td>100</td>\n",
       "      <td>100</td>\n",
       "      <td>100</td>\n",
       "      <td>SAWANTWADI R</td>\n",
       "      <td>1</td>\n",
       "      <td>00:00:00</td>\n",
       "      <td>10:25:00</td>\n",
       "      <td>0</td>\n",
       "    </tr>\n",
       "    <tr>\n",
       "      <th>1</th>\n",
       "      <td>108.0</td>\n",
       "      <td>VLNK-MAO-SWV</td>\n",
       "      <td>MADGOAN JN.</td>\n",
       "      <td>SAWANTWADI ROAD</td>\n",
       "      <td>2</td>\n",
       "      <td>THVM</td>\n",
       "      <td>260</td>\n",
       "      <td>228</td>\n",
       "      <td>196</td>\n",
       "      <td>164</td>\n",
       "      <td>THIVIM</td>\n",
       "      <td>1</td>\n",
       "      <td>11:06:00</td>\n",
       "      <td>11:08:00</td>\n",
       "      <td>32</td>\n",
       "    </tr>\n",
       "    <tr>\n",
       "      <th>2</th>\n",
       "      <td>128.0</td>\n",
       "      <td>MAO-KOP SPEC</td>\n",
       "      <td>MADGOAN JN.</td>\n",
       "      <td>CHHATRAPATI SHAHU MAHARAJ TERMINUS</td>\n",
       "      <td>3</td>\n",
       "      <td>KRMI</td>\n",
       "      <td>345</td>\n",
       "      <td>296</td>\n",
       "      <td>247</td>\n",
       "      <td>198</td>\n",
       "      <td>KARMALI</td>\n",
       "      <td>1</td>\n",
       "      <td>11:28:00</td>\n",
       "      <td>11:30:00</td>\n",
       "      <td>49</td>\n",
       "    </tr>\n",
       "    <tr>\n",
       "      <th>3</th>\n",
       "      <td>290.0</td>\n",
       "      <td>PALACE ON WH</td>\n",
       "      <td>DELHI-SAFDAR JANG</td>\n",
       "      <td>DELHI-SAFDAR JANG</td>\n",
       "      <td>4</td>\n",
       "      <td>MAO</td>\n",
       "      <td>490</td>\n",
       "      <td>412</td>\n",
       "      <td>334</td>\n",
       "      <td>256</td>\n",
       "      <td>MADGOAN JN.</td>\n",
       "      <td>1</td>\n",
       "      <td>12:10:00</td>\n",
       "      <td>00:00:00</td>\n",
       "      <td>78</td>\n",
       "    </tr>\n",
       "    <tr>\n",
       "      <th>4</th>\n",
       "      <td>401.0</td>\n",
       "      <td>BSB BHARATDA</td>\n",
       "      <td>AURANGABAD</td>\n",
       "      <td>VARANASI JN.</td>\n",
       "      <td>1</td>\n",
       "      <td>MAO</td>\n",
       "      <td>100</td>\n",
       "      <td>100</td>\n",
       "      <td>100</td>\n",
       "      <td>100</td>\n",
       "      <td>MADGOAN JN.</td>\n",
       "      <td>1</td>\n",
       "      <td>00:00:00</td>\n",
       "      <td>20:30:00</td>\n",
       "      <td>0</td>\n",
       "    </tr>\n",
       "  </tbody>\n",
       "</table>\n",
       "</div>"
      ],
      "text/plain": [
       "   Train_No    Train_Name Source_Station_Name  \\\n",
       "0     107.0  SWV-MAO-VLNK     SAWANTWADI ROAD   \n",
       "1     108.0  VLNK-MAO-SWV         MADGOAN JN.   \n",
       "2     128.0  MAO-KOP SPEC         MADGOAN JN.   \n",
       "3     290.0  PALACE ON WH   DELHI-SAFDAR JANG   \n",
       "4     401.0  BSB BHARATDA          AURANGABAD   \n",
       "\n",
       "             Destination_Station_Name  SN Station_Code   1A   2A   3A   SL  \\\n",
       "0                         MADGOAN JN.   1          SWV  100  100  100  100   \n",
       "1                     SAWANTWADI ROAD   2         THVM  260  228  196  164   \n",
       "2  CHHATRAPATI SHAHU MAHARAJ TERMINUS   3         KRMI  345  296  247  198   \n",
       "3                   DELHI-SAFDAR JANG   4          MAO  490  412  334  256   \n",
       "4                        VARANASI JN.   1          MAO  100  100  100  100   \n",
       "\n",
       "   Station_Name  Route_Number Arrival_time Departure_Time  Distance  \n",
       "0  SAWANTWADI R             1     00:00:00       10:25:00         0  \n",
       "1        THIVIM             1     11:06:00       11:08:00        32  \n",
       "2       KARMALI             1     11:28:00       11:30:00        49  \n",
       "3   MADGOAN JN.             1     12:10:00       00:00:00        78  \n",
       "4   MADGOAN JN.             1     00:00:00       20:30:00         0  "
      ]
     },
     "execution_count": 28,
     "metadata": {},
     "output_type": "execute_result"
    }
   ],
   "source": [
    "final_df.head()"
   ]
  },
  {
   "cell_type": "code",
   "execution_count": 29,
   "id": "6a848571-abec-4183-bb87-7ab4cc41c102",
   "metadata": {},
   "outputs": [
    {
     "data": {
      "text/plain": [
       "count     186074\n",
       "unique      8147\n",
       "top         CSMT\n",
       "freq        1027\n",
       "Name: Station_Code, dtype: object"
      ]
     },
     "execution_count": 29,
     "metadata": {},
     "output_type": "execute_result"
    }
   ],
   "source": [
    "final_df[\"Station_Code\"].describe()"
   ]
  },
  {
   "cell_type": "code",
   "execution_count": 30,
   "id": "c1a89edb-f435-418a-a3d2-c73c01a01918",
   "metadata": {},
   "outputs": [],
   "source": [
    "fo=final_df[\"Station_Code\"].value_counts().index"
   ]
  },
  {
   "cell_type": "code",
   "execution_count": 31,
   "id": "4553ac7a-a3a6-4b2e-9415-7d2f3c7f33e0",
   "metadata": {},
   "outputs": [],
   "source": [
    "ofo=final_df[\"Station_Code\"].value_counts()"
   ]
  },
  {
   "cell_type": "code",
   "execution_count": 32,
   "id": "56b16c82-bcfb-46f5-b12c-3ba66ab4812e",
   "metadata": {},
   "outputs": [
    {
     "data": {
      "text/plain": [
       "([<matplotlib.patches.Wedge at 0x1f71a9a8860>,\n",
       "  <matplotlib.patches.Wedge at 0x1f71a94b2c0>,\n",
       "  <matplotlib.patches.Wedge at 0x1f71a9a9010>,\n",
       "  <matplotlib.patches.Wedge at 0x1f71a9a9670>,\n",
       "  <matplotlib.patches.Wedge at 0x1f71a9a9cd0>],\n",
       " [Text(0.7816500672073323, 0.7739658729135109, 'CSMT'),\n",
       "  Text(-0.6385577382697732, 0.8956807550102837, 'KYN'),\n",
       "  Text(-1.056337042736257, -0.3068420638426537, 'TNA'),\n",
       "  Text(-0.12844019611312119, -1.09247568211948, 'SDAH'),\n",
       "  Text(0.9314919125820487, -0.5850835981244366, 'MSB')],\n",
       " [Text(0.4263545821130903, 0.42216320340736957, '24.843%'),\n",
       "  Text(-0.3483042208744217, 0.4885531390965183, '20.029%'),\n",
       "  Text(-0.5761838414925038, -0.16736839845962928, '19.255%'),\n",
       "  Text(-0.07005828878897519, -0.5958958266106255, '18.021%'),\n",
       "  Text(0.5080864977720265, -0.3191365080678744, '17.852%')])"
      ]
     },
     "execution_count": 32,
     "metadata": {},
     "output_type": "execute_result"
    },
    {
     "data": {
      "image/png": "[encoded data removed]",
      "text/plain": [
       "<Figure size 640x480 with 1 Axes>"
      ]
     },
     "metadata": {},
     "output_type": "display_data"
    }
   ],
   "source": [
    "plt.pie(ofo[:5],labels=fo[:5], autopct=\"%1.3f%%\")"
   ]
  },
  {
   "cell_type": "code",
   "execution_count": 33,
   "id": "9b792237-2d41-4ae3-9b87-78c281c70085",
   "metadata": {},
   "outputs": [
    {
     "data": {
      "text/plain": [
       "<Axes: ylabel='Frequency'>"
      ]
     },
     "execution_count": 33,
     "metadata": {},
     "output_type": "execute_result"
    },
    {
     "data": {
      "image/png": "[encoded data removed]",
      "text/plain": [
       "<Figure size 640x480 with 1 Axes>"
      ]
     },
     "metadata": {},
     "output_type": "display_data"
    }
   ],
   "source": [
    "final_df[\"Route_Number\"].plot(kind=\"hist\")"
   ]
  },
  {
   "cell_type": "markdown",
   "id": "73fcf4b6-bc24-498c-a68d-0f656cd37234",
   "metadata": {},
   "source": [
    "                               #Conclusion:->\n",
    "                               1.The most common station codes is CSMT:->24.83%\n",
    "                               2.The most common station name is CST-Mumbai\n",
    "                               3.Majority of the trains are only taking to Route 1."
   ]
  },
  {
   "cell_type": "code",
   "execution_count": 34,
   "id": "557eade9-a996-4395-bc37-0163de717716",
   "metadata": {},
   "outputs": [
    {
     "data": {
      "text/html": [
       "<div>\n",
       "<style scoped>\n",
       "    .dataframe tbody tr th:only-of-type {\n",
       "        vertical-align: middle;\n",
       "    }\n",
       "\n",
       "    .dataframe tbody tr th {\n",
       "        vertical-align: top;\n",
       "    }\n",
       "\n",
       "    .dataframe thead th {\n",
       "        text-align: right;\n",
       "    }\n",
       "</style>\n",
       "<table border=\"1\" class=\"dataframe\">\n",
       "  <thead>\n",
       "    <tr style=\"text-align: right;\">\n",
       "      <th></th>\n",
       "      <th>Train_No</th>\n",
       "      <th>Train_Name</th>\n",
       "      <th>Source_Station_Name</th>\n",
       "      <th>Destination_Station_Name</th>\n",
       "      <th>SN</th>\n",
       "      <th>Station_Code</th>\n",
       "      <th>1A</th>\n",
       "      <th>2A</th>\n",
       "      <th>3A</th>\n",
       "      <th>SL</th>\n",
       "      <th>Station_Name</th>\n",
       "      <th>Route_Number</th>\n",
       "      <th>Arrival_time</th>\n",
       "      <th>Departure_Time</th>\n",
       "      <th>Distance</th>\n",
       "    </tr>\n",
       "  </thead>\n",
       "  <tbody>\n",
       "    <tr>\n",
       "      <th>0</th>\n",
       "      <td>107.0</td>\n",
       "      <td>SWV-MAO-VLNK</td>\n",
       "      <td>SAWANTWADI ROAD</td>\n",
       "      <td>MADGOAN JN.</td>\n",
       "      <td>1</td>\n",
       "      <td>SWV</td>\n",
       "      <td>100</td>\n",
       "      <td>100</td>\n",
       "      <td>100</td>\n",
       "      <td>100</td>\n",
       "      <td>SAWANTWADI R</td>\n",
       "      <td>1</td>\n",
       "      <td>00:00:00</td>\n",
       "      <td>10:25:00</td>\n",
       "      <td>0</td>\n",
       "    </tr>\n",
       "    <tr>\n",
       "      <th>1</th>\n",
       "      <td>108.0</td>\n",
       "      <td>VLNK-MAO-SWV</td>\n",
       "      <td>MADGOAN JN.</td>\n",
       "      <td>SAWANTWADI ROAD</td>\n",
       "      <td>2</td>\n",
       "      <td>THVM</td>\n",
       "      <td>260</td>\n",
       "      <td>228</td>\n",
       "      <td>196</td>\n",
       "      <td>164</td>\n",
       "      <td>THIVIM</td>\n",
       "      <td>1</td>\n",
       "      <td>11:06:00</td>\n",
       "      <td>11:08:00</td>\n",
       "      <td>32</td>\n",
       "    </tr>\n",
       "    <tr>\n",
       "      <th>2</th>\n",
       "      <td>128.0</td>\n",
       "      <td>MAO-KOP SPEC</td>\n",
       "      <td>MADGOAN JN.</td>\n",
       "      <td>CHHATRAPATI SHAHU MAHARAJ TERMINUS</td>\n",
       "      <td>3</td>\n",
       "      <td>KRMI</td>\n",
       "      <td>345</td>\n",
       "      <td>296</td>\n",
       "      <td>247</td>\n",
       "      <td>198</td>\n",
       "      <td>KARMALI</td>\n",
       "      <td>1</td>\n",
       "      <td>11:28:00</td>\n",
       "      <td>11:30:00</td>\n",
       "      <td>49</td>\n",
       "    </tr>\n",
       "    <tr>\n",
       "      <th>3</th>\n",
       "      <td>290.0</td>\n",
       "      <td>PALACE ON WH</td>\n",
       "      <td>DELHI-SAFDAR JANG</td>\n",
       "      <td>DELHI-SAFDAR JANG</td>\n",
       "      <td>4</td>\n",
       "      <td>MAO</td>\n",
       "      <td>490</td>\n",
       "      <td>412</td>\n",
       "      <td>334</td>\n",
       "      <td>256</td>\n",
       "      <td>MADGOAN JN.</td>\n",
       "      <td>1</td>\n",
       "      <td>12:10:00</td>\n",
       "      <td>00:00:00</td>\n",
       "      <td>78</td>\n",
       "    </tr>\n",
       "    <tr>\n",
       "      <th>4</th>\n",
       "      <td>401.0</td>\n",
       "      <td>BSB BHARATDA</td>\n",
       "      <td>AURANGABAD</td>\n",
       "      <td>VARANASI JN.</td>\n",
       "      <td>1</td>\n",
       "      <td>MAO</td>\n",
       "      <td>100</td>\n",
       "      <td>100</td>\n",
       "      <td>100</td>\n",
       "      <td>100</td>\n",
       "      <td>MADGOAN JN.</td>\n",
       "      <td>1</td>\n",
       "      <td>00:00:00</td>\n",
       "      <td>20:30:00</td>\n",
       "      <td>0</td>\n",
       "    </tr>\n",
       "  </tbody>\n",
       "</table>\n",
       "</div>"
      ],
      "text/plain": [
       "   Train_No    Train_Name Source_Station_Name  \\\n",
       "0     107.0  SWV-MAO-VLNK     SAWANTWADI ROAD   \n",
       "1     108.0  VLNK-MAO-SWV         MADGOAN JN.   \n",
       "2     128.0  MAO-KOP SPEC         MADGOAN JN.   \n",
       "3     290.0  PALACE ON WH   DELHI-SAFDAR JANG   \n",
       "4     401.0  BSB BHARATDA          AURANGABAD   \n",
       "\n",
       "             Destination_Station_Name  SN Station_Code   1A   2A   3A   SL  \\\n",
       "0                         MADGOAN JN.   1          SWV  100  100  100  100   \n",
       "1                     SAWANTWADI ROAD   2         THVM  260  228  196  164   \n",
       "2  CHHATRAPATI SHAHU MAHARAJ TERMINUS   3         KRMI  345  296  247  198   \n",
       "3                   DELHI-SAFDAR JANG   4          MAO  490  412  334  256   \n",
       "4                        VARANASI JN.   1          MAO  100  100  100  100   \n",
       "\n",
       "   Station_Name  Route_Number Arrival_time Departure_Time  Distance  \n",
       "0  SAWANTWADI R             1     00:00:00       10:25:00         0  \n",
       "1        THIVIM             1     11:06:00       11:08:00        32  \n",
       "2       KARMALI             1     11:28:00       11:30:00        49  \n",
       "3   MADGOAN JN.             1     12:10:00       00:00:00        78  \n",
       "4   MADGOAN JN.             1     00:00:00       20:30:00         0  "
      ]
     },
     "execution_count": 34,
     "metadata": {},
     "output_type": "execute_result"
    }
   ],
   "source": [
    "final_df.head()"
   ]
  },
  {
   "cell_type": "code",
   "execution_count": 35,
   "id": "34f6d215-6b99-46e3-b383-0a9ea771d0b4",
   "metadata": {},
   "outputs": [
    {
     "name": "stdout",
     "output_type": "stream",
     "text": [
      "                  1A             2A             3A             SL\n",
      "count  186074.000000  186074.000000  186074.000000  186074.000000\n",
      "mean     1506.769189    1225.415351     944.061513     662.735777\n",
      "std      2418.719821    1934.975856    1451.231892     967.524012\n",
      "min       100.000000     100.000000     100.000000     100.000000\n",
      "25%       215.000000     192.000000     169.000000     146.000000\n",
      "50%       465.000000     392.000000     319.000000     246.000000\n",
      "75%      1555.000000    1264.000000     973.000000     682.000000\n",
      "max     21400.000000   17140.000000   12880.000000    8620.000000\n"
     ]
    }
   ],
   "source": [
    "print(final_df[[\"1A\",\"2A\",\"3A\",\"SL\"]].describe())"
   ]
  },
  {
   "cell_type": "code",
   "execution_count": 36,
   "id": "ad703d15-e974-44cf-b9f5-1eed47ef6848",
   "metadata": {},
   "outputs": [
    {
     "data": {
      "text/plain": [
       "MultiIndex([(  100,   100,   100,  100),\n",
       "            (  130,   124,   118,  112),\n",
       "            (  185,   168,   151,  134),\n",
       "            (  125,   120,   115,  110),\n",
       "            (  195,   176,   157,  138),\n",
       "            (  150,   140,   130,  120),\n",
       "            (  170,   156,   142,  128),\n",
       "            (  210,   188,   166,  144),\n",
       "            (  145,   136,   127,  118),\n",
       "            (  175,   160,   145,  130),\n",
       "            ...\n",
       "            (14230, 11404,  8578, 5752),\n",
       "            (14200, 11380,  8560, 5740),\n",
       "            (14175, 11360,  8545, 5730),\n",
       "            (14170, 11356,  8542, 5728),\n",
       "            (14155, 11344,  8533, 5722),\n",
       "            (14150, 11340,  8530, 5720),\n",
       "            (14135, 11328,  8521, 5714),\n",
       "            (14125, 11320,  8515, 5710),\n",
       "            (14105, 11304,  8503, 5702),\n",
       "            (21400, 17140, 12880, 8620)],\n",
       "           names=['1A', '2A', '3A', 'SL'], length=3101)"
      ]
     },
     "execution_count": 36,
     "metadata": {},
     "output_type": "execute_result"
    }
   ],
   "source": [
    "final_df[[\"1A\",\"2A\",\"3A\",\"SL\"]].value_counts().index"
   ]
  },
  {
   "cell_type": "code",
   "execution_count": 37,
   "id": "2db09c6f-40df-42f4-b76b-8c75a0b44cca",
   "metadata": {},
   "outputs": [
    {
     "data": {
      "text/plain": [
       "<Figure size 1200x800 with 0 Axes>"
      ]
     },
     "execution_count": 37,
     "metadata": {},
     "output_type": "execute_result"
    },
    {
     "data": {
      "text/plain": [
       "<Figure size 1200x800 with 0 Axes>"
      ]
     },
     "metadata": {},
     "output_type": "display_data"
    }
   ],
   "source": [
    "plt.figure(figsize=(12,8))"
   ]
  },
  {
   "cell_type": "code",
   "execution_count": 38,
   "id": "4de75899-5a98-4dcc-967e-4618f98d7055",
   "metadata": {},
   "outputs": [
    {
     "data": {
      "text/plain": [
       "Text(0.5, 1.0, 'DISTRIBUTION OF 1A')"
      ]
     },
     "execution_count": 38,
     "metadata": {},
     "output_type": "execute_result"
    },
    {
     "data": {
      "image/png": "[encoded data removed]",
      "text/plain": [
       "<Figure size 640x480 with 1 Axes>"
      ]
     },
     "metadata": {},
     "output_type": "display_data"
    }
   ],
   "source": [
    "plt.subplot(2,2,2)\n",
    "sns.histplot(final_df['1A'], bins=30, kde=True)\n",
    "plt.title(\"DISTRIBUTION OF 1A\")"
   ]
  },
  {
   "cell_type": "code",
   "execution_count": 39,
   "id": "7216d630-48cf-4320-96dc-96e04246903c",
   "metadata": {},
   "outputs": [
    {
     "data": {
      "text/plain": [
       "Text(0.5, 1.0, 'DISTRIBUTION OF 2A')"
      ]
     },
     "execution_count": 39,
     "metadata": {},
     "output_type": "execute_result"
    },
    {
     "data": {
      "image/png": "[encoded data removed]",
      "text/plain": [
       "<Figure size 640x480 with 1 Axes>"
      ]
     },
     "metadata": {},
     "output_type": "display_data"
    }
   ],
   "source": [
    "plt.subplot(2,2,2)\n",
    "sns.histplot(final_df['2A'], bins=30, kde=True)\n",
    "plt.title(\"DISTRIBUTION OF 2A\")"
   ]
  },
  {
   "cell_type": "code",
   "execution_count": 40,
   "id": "e2bbc4c7-e5f8-4d01-a174-f71a298de293",
   "metadata": {},
   "outputs": [
    {
     "data": {
      "text/plain": [
       "Text(0.5, 1.0, 'DISTRIBUTION OF 3A')"
      ]
     },
     "execution_count": 40,
     "metadata": {},
     "output_type": "execute_result"
    },
    {
     "data": {
      "image/png": "[encoded data removed]",
      "text/plain": [
       "<Figure size 640x480 with 1 Axes>"
      ]
     },
     "metadata": {},
     "output_type": "display_data"
    }
   ],
   "source": [
    "plt.subplot(2,2,2)\n",
    "sns.histplot(final_df['3A'], bins=30, kde=True)\n",
    "plt.title(\"DISTRIBUTION OF 3A\")"
   ]
  },
  {
   "cell_type": "code",
   "execution_count": 41,
   "id": "4bc70a18-6dd8-4343-8042-3fe181472714",
   "metadata": {},
   "outputs": [
    {
     "data": {
      "text/plain": [
       "Text(0.5, 1.0, 'DISTRIBUTION OF 4A')"
      ]
     },
     "execution_count": 41,
     "metadata": {},
     "output_type": "execute_result"
    },
    {
     "data": {
      "image/png": "[encoded data removed]",
      "text/plain": [
       "<Figure size 640x480 with 1 Axes>"
      ]
     },
     "metadata": {},
     "output_type": "display_data"
    }
   ],
   "source": [
    "plt.subplot(2,2,2)\n",
    "sns.histplot(final_df['SL'], bins=30, kde=True)\n",
    "plt.title(\"DISTRIBUTION OF 4A\")"
   ]
  },
  {
   "cell_type": "markdown",
   "id": "8e2e2395-1e38-44a5-af57-e123a1b45d5c",
   "metadata": {},
   "source": [
    "                                           #Conclusion:->\n",
    "                                           1.The distribution of seats in same in all of the three types of seats.\n",
    "                                           2.any trains with no availability in certain classes?:->NO"
   ]
  },
  {
   "cell_type": "code",
   "execution_count": 42,
   "id": "2cafdbdf-07a2-4b6a-9d5d-8e43ee3a50d4",
   "metadata": {},
   "outputs": [
    {
     "data": {
      "text/html": [
       "<div>\n",
       "<style scoped>\n",
       "    .dataframe tbody tr th:only-of-type {\n",
       "        vertical-align: middle;\n",
       "    }\n",
       "\n",
       "    .dataframe tbody tr th {\n",
       "        vertical-align: top;\n",
       "    }\n",
       "\n",
       "    .dataframe thead th {\n",
       "        text-align: right;\n",
       "    }\n",
       "</style>\n",
       "<table border=\"1\" class=\"dataframe\">\n",
       "  <thead>\n",
       "    <tr style=\"text-align: right;\">\n",
       "      <th></th>\n",
       "      <th>Train_No</th>\n",
       "      <th>Train_Name</th>\n",
       "      <th>Source_Station_Name</th>\n",
       "      <th>Destination_Station_Name</th>\n",
       "      <th>SN</th>\n",
       "      <th>Station_Code</th>\n",
       "      <th>1A</th>\n",
       "      <th>2A</th>\n",
       "      <th>3A</th>\n",
       "      <th>SL</th>\n",
       "      <th>Station_Name</th>\n",
       "      <th>Route_Number</th>\n",
       "      <th>Arrival_time</th>\n",
       "      <th>Departure_Time</th>\n",
       "      <th>Distance</th>\n",
       "    </tr>\n",
       "  </thead>\n",
       "  <tbody>\n",
       "    <tr>\n",
       "      <th>0</th>\n",
       "      <td>107.0</td>\n",
       "      <td>SWV-MAO-VLNK</td>\n",
       "      <td>SAWANTWADI ROAD</td>\n",
       "      <td>MADGOAN JN.</td>\n",
       "      <td>1</td>\n",
       "      <td>SWV</td>\n",
       "      <td>100</td>\n",
       "      <td>100</td>\n",
       "      <td>100</td>\n",
       "      <td>100</td>\n",
       "      <td>SAWANTWADI R</td>\n",
       "      <td>1</td>\n",
       "      <td>00:00:00</td>\n",
       "      <td>10:25:00</td>\n",
       "      <td>0</td>\n",
       "    </tr>\n",
       "    <tr>\n",
       "      <th>1</th>\n",
       "      <td>108.0</td>\n",
       "      <td>VLNK-MAO-SWV</td>\n",
       "      <td>MADGOAN JN.</td>\n",
       "      <td>SAWANTWADI ROAD</td>\n",
       "      <td>2</td>\n",
       "      <td>THVM</td>\n",
       "      <td>260</td>\n",
       "      <td>228</td>\n",
       "      <td>196</td>\n",
       "      <td>164</td>\n",
       "      <td>THIVIM</td>\n",
       "      <td>1</td>\n",
       "      <td>11:06:00</td>\n",
       "      <td>11:08:00</td>\n",
       "      <td>32</td>\n",
       "    </tr>\n",
       "    <tr>\n",
       "      <th>2</th>\n",
       "      <td>128.0</td>\n",
       "      <td>MAO-KOP SPEC</td>\n",
       "      <td>MADGOAN JN.</td>\n",
       "      <td>CHHATRAPATI SHAHU MAHARAJ TERMINUS</td>\n",
       "      <td>3</td>\n",
       "      <td>KRMI</td>\n",
       "      <td>345</td>\n",
       "      <td>296</td>\n",
       "      <td>247</td>\n",
       "      <td>198</td>\n",
       "      <td>KARMALI</td>\n",
       "      <td>1</td>\n",
       "      <td>11:28:00</td>\n",
       "      <td>11:30:00</td>\n",
       "      <td>49</td>\n",
       "    </tr>\n",
       "    <tr>\n",
       "      <th>3</th>\n",
       "      <td>290.0</td>\n",
       "      <td>PALACE ON WH</td>\n",
       "      <td>DELHI-SAFDAR JANG</td>\n",
       "      <td>DELHI-SAFDAR JANG</td>\n",
       "      <td>4</td>\n",
       "      <td>MAO</td>\n",
       "      <td>490</td>\n",
       "      <td>412</td>\n",
       "      <td>334</td>\n",
       "      <td>256</td>\n",
       "      <td>MADGOAN JN.</td>\n",
       "      <td>1</td>\n",
       "      <td>12:10:00</td>\n",
       "      <td>00:00:00</td>\n",
       "      <td>78</td>\n",
       "    </tr>\n",
       "    <tr>\n",
       "      <th>4</th>\n",
       "      <td>401.0</td>\n",
       "      <td>BSB BHARATDA</td>\n",
       "      <td>AURANGABAD</td>\n",
       "      <td>VARANASI JN.</td>\n",
       "      <td>1</td>\n",
       "      <td>MAO</td>\n",
       "      <td>100</td>\n",
       "      <td>100</td>\n",
       "      <td>100</td>\n",
       "      <td>100</td>\n",
       "      <td>MADGOAN JN.</td>\n",
       "      <td>1</td>\n",
       "      <td>00:00:00</td>\n",
       "      <td>20:30:00</td>\n",
       "      <td>0</td>\n",
       "    </tr>\n",
       "  </tbody>\n",
       "</table>\n",
       "</div>"
      ],
      "text/plain": [
       "   Train_No    Train_Name Source_Station_Name  \\\n",
       "0     107.0  SWV-MAO-VLNK     SAWANTWADI ROAD   \n",
       "1     108.0  VLNK-MAO-SWV         MADGOAN JN.   \n",
       "2     128.0  MAO-KOP SPEC         MADGOAN JN.   \n",
       "3     290.0  PALACE ON WH   DELHI-SAFDAR JANG   \n",
       "4     401.0  BSB BHARATDA          AURANGABAD   \n",
       "\n",
       "             Destination_Station_Name  SN Station_Code   1A   2A   3A   SL  \\\n",
       "0                         MADGOAN JN.   1          SWV  100  100  100  100   \n",
       "1                     SAWANTWADI ROAD   2         THVM  260  228  196  164   \n",
       "2  CHHATRAPATI SHAHU MAHARAJ TERMINUS   3         KRMI  345  296  247  198   \n",
       "3                   DELHI-SAFDAR JANG   4          MAO  490  412  334  256   \n",
       "4                        VARANASI JN.   1          MAO  100  100  100  100   \n",
       "\n",
       "   Station_Name  Route_Number Arrival_time Departure_Time  Distance  \n",
       "0  SAWANTWADI R             1     00:00:00       10:25:00         0  \n",
       "1        THIVIM             1     11:06:00       11:08:00        32  \n",
       "2       KARMALI             1     11:28:00       11:30:00        49  \n",
       "3   MADGOAN JN.             1     12:10:00       00:00:00        78  \n",
       "4   MADGOAN JN.             1     00:00:00       20:30:00         0  "
      ]
     },
     "execution_count": 42,
     "metadata": {},
     "output_type": "execute_result"
    }
   ],
   "source": [
    "final_df.head()"
   ]
  },
  {
   "cell_type": "code",
   "execution_count": 43,
   "id": "c0a4fa44-8ca1-4adf-8a3c-01b1ce372c2d",
   "metadata": {},
   "outputs": [],
   "source": [
    "#splliting the  arrival_time into hours:min:sec\n",
    "final_df[\"Arr_Hour\"]=final_df[\"Arrival_time\"].str.split(\":\").str[0]\n",
    "final_df[\"Arr_Min\"]=final_df[\"Arrival_time\"].str.split(\":\").str[1]\n",
    "final_df[\"Arr_Sec\"]=final_df[\"Arrival_time\"].str.split(\":\").str[2]\n"
   ]
  },
  {
   "cell_type": "code",
   "execution_count": 44,
   "id": "5b5e14b1-c637-478d-9691-229d567252f2",
   "metadata": {},
   "outputs": [],
   "source": [
    "#splliting the  dept_time into hours:min:sec\n",
    "final_df[\"Dept_Hour\"]=final_df[\"Departure_Time\"].str.split(\":\").str[0]\n",
    "final_df[\"Dept_Min\"]=final_df[\"Departure_Time\"].str.split(\":\").str[1]\n",
    "final_df[\"Dept_Sec\"]=final_df[\"Departure_Time\"].str.split(\":\").str[2]"
   ]
  },
  {
   "cell_type": "code",
   "execution_count": 45,
   "id": "d58c458d-273b-40e6-b755-e17c69847eb4",
   "metadata": {},
   "outputs": [
    {
     "data": {
      "text/plain": [
       "count       186074\n",
       "unique        1440\n",
       "top       00:00:00\n",
       "freq          2003\n",
       "Name: Arrival_time, dtype: object"
      ]
     },
     "execution_count": 45,
     "metadata": {},
     "output_type": "execute_result"
    }
   ],
   "source": [
    "final_df[\"Arrival_time\"].describe()"
   ]
  },
  {
   "cell_type": "code",
   "execution_count": 46,
   "id": "1cba9fdc-b581-4cb7-a4fc-ce3d42ef701b",
   "metadata": {},
   "outputs": [
    {
     "data": {
      "text/plain": [
       "<Axes: xlabel='Arrival_time', ylabel='Count'>"
      ]
     },
     "execution_count": 46,
     "metadata": {},
     "output_type": "execute_result"
    },
    {
     "data": {
      "image/png": "[encoded data removed]",
      "text/plain": [
       "<Figure size 640x480 with 1 Axes>"
      ]
     },
     "metadata": {},
     "output_type": "display_data"
    }
   ],
   "source": [
    "sns.histplot(final_df[\"Arrival_time\"],kde=True)"
   ]
  },
  {
   "cell_type": "code",
   "execution_count": 47,
   "id": "915f4b8b-460a-4f4f-99bc-650acbb1823a",
   "metadata": {},
   "outputs": [
    {
     "data": {
      "text/plain": [
       "<Axes: xlabel='Departure_Time', ylabel='Count'>"
      ]
     },
     "execution_count": 47,
     "metadata": {},
     "output_type": "execute_result"
    },
    {
     "data": {
      "image/png": "[encoded data removed]",
      "text/plain": [
       "<Figure size 640x480 with 1 Axes>"
      ]
     },
     "metadata": {},
     "output_type": "display_data"
    }
   ],
   "source": [
    "sns.histplot(final_df[\"Departure_Time\"],kde=True,bins=20)"
   ]
  },
  {
   "cell_type": "code",
   "execution_count": 48,
   "id": "36fd73e2-5993-407d-b942-3718316a8333",
   "metadata": {},
   "outputs": [],
   "source": [
    "final_df[\"Dept_Hour\"]=final_df[\"Dept_Hour\"].astype(int)"
   ]
  },
  {
   "cell_type": "code",
   "execution_count": 49,
   "id": "cf6feb92-c60e-45bb-aeaf-75a01fd3caf5",
   "metadata": {
    "scrolled": true
   },
   "outputs": [],
   "source": [
    "final_df[\"Arr_Hour\"]=final_df[\"Arr_Hour\"].astype(int)"
   ]
  },
  {
   "cell_type": "code",
   "execution_count": 50,
   "id": "3faf2b81-de9c-4928-92a1-b38249966f77",
   "metadata": {},
   "outputs": [],
   "source": [
    "#Traveel time\n",
    "final_df['Travel_Time'] = (final_df['Arr_Hour'] - final_df['Dept_Hour']) / 60"
   ]
  },
  {
   "cell_type": "code",
   "execution_count": 51,
   "id": "597932a1-eb11-486e-ba9c-f68201c1471d",
   "metadata": {},
   "outputs": [
    {
     "data": {
      "text/plain": [
       "0        -0.166667\n",
       "1         0.000000\n",
       "2         0.000000\n",
       "3         0.200000\n",
       "4        -0.333333\n",
       "            ...   \n",
       "186069   -0.100000\n",
       "186070    0.000000\n",
       "186071    0.000000\n",
       "186072    0.000000\n",
       "186073    0.233333\n",
       "Name: Travel_Time, Length: 186074, dtype: float64"
      ]
     },
     "execution_count": 51,
     "metadata": {},
     "output_type": "execute_result"
    }
   ],
   "source": [
    "final_df[\"Travel_Time\"]"
   ]
  },
  {
   "cell_type": "code",
   "execution_count": 52,
   "id": "5505c93d-79eb-43ae-b947-d0b587e893b2",
   "metadata": {},
   "outputs": [
    {
     "data": {
      "text/html": [
       "<div>\n",
       "<style scoped>\n",
       "    .dataframe tbody tr th:only-of-type {\n",
       "        vertical-align: middle;\n",
       "    }\n",
       "\n",
       "    .dataframe tbody tr th {\n",
       "        vertical-align: top;\n",
       "    }\n",
       "\n",
       "    .dataframe thead th {\n",
       "        text-align: right;\n",
       "    }\n",
       "</style>\n",
       "<table border=\"1\" class=\"dataframe\">\n",
       "  <thead>\n",
       "    <tr style=\"text-align: right;\">\n",
       "      <th></th>\n",
       "      <th>Train_No</th>\n",
       "      <th>Train_Name</th>\n",
       "      <th>Source_Station_Name</th>\n",
       "      <th>Destination_Station_Name</th>\n",
       "      <th>SN</th>\n",
       "      <th>Station_Code</th>\n",
       "      <th>1A</th>\n",
       "      <th>2A</th>\n",
       "      <th>3A</th>\n",
       "      <th>SL</th>\n",
       "      <th>...</th>\n",
       "      <th>Arrival_time</th>\n",
       "      <th>Departure_Time</th>\n",
       "      <th>Distance</th>\n",
       "      <th>Arr_Hour</th>\n",
       "      <th>Arr_Min</th>\n",
       "      <th>Arr_Sec</th>\n",
       "      <th>Dept_Hour</th>\n",
       "      <th>Dept_Min</th>\n",
       "      <th>Dept_Sec</th>\n",
       "      <th>Travel_Time</th>\n",
       "    </tr>\n",
       "  </thead>\n",
       "  <tbody>\n",
       "    <tr>\n",
       "      <th>0</th>\n",
       "      <td>107.0</td>\n",
       "      <td>SWV-MAO-VLNK</td>\n",
       "      <td>SAWANTWADI ROAD</td>\n",
       "      <td>MADGOAN JN.</td>\n",
       "      <td>1</td>\n",
       "      <td>SWV</td>\n",
       "      <td>100</td>\n",
       "      <td>100</td>\n",
       "      <td>100</td>\n",
       "      <td>100</td>\n",
       "      <td>...</td>\n",
       "      <td>00:00:00</td>\n",
       "      <td>10:25:00</td>\n",
       "      <td>0</td>\n",
       "      <td>0</td>\n",
       "      <td>00</td>\n",
       "      <td>00</td>\n",
       "      <td>10</td>\n",
       "      <td>25</td>\n",
       "      <td>00</td>\n",
       "      <td>-0.166667</td>\n",
       "    </tr>\n",
       "    <tr>\n",
       "      <th>1</th>\n",
       "      <td>108.0</td>\n",
       "      <td>VLNK-MAO-SWV</td>\n",
       "      <td>MADGOAN JN.</td>\n",
       "      <td>SAWANTWADI ROAD</td>\n",
       "      <td>2</td>\n",
       "      <td>THVM</td>\n",
       "      <td>260</td>\n",
       "      <td>228</td>\n",
       "      <td>196</td>\n",
       "      <td>164</td>\n",
       "      <td>...</td>\n",
       "      <td>11:06:00</td>\n",
       "      <td>11:08:00</td>\n",
       "      <td>32</td>\n",
       "      <td>11</td>\n",
       "      <td>06</td>\n",
       "      <td>00</td>\n",
       "      <td>11</td>\n",
       "      <td>08</td>\n",
       "      <td>00</td>\n",
       "      <td>0.000000</td>\n",
       "    </tr>\n",
       "  </tbody>\n",
       "</table>\n",
       "<p>2 rows × 22 columns</p>\n",
       "</div>"
      ],
      "text/plain": [
       "   Train_No    Train_Name Source_Station_Name Destination_Station_Name  SN  \\\n",
       "0     107.0  SWV-MAO-VLNK     SAWANTWADI ROAD              MADGOAN JN.   1   \n",
       "1     108.0  VLNK-MAO-SWV         MADGOAN JN.          SAWANTWADI ROAD   2   \n",
       "\n",
       "  Station_Code   1A   2A   3A   SL  ... Arrival_time  Departure_Time Distance  \\\n",
       "0          SWV  100  100  100  100  ...     00:00:00        10:25:00        0   \n",
       "1         THVM  260  228  196  164  ...     11:06:00        11:08:00       32   \n",
       "\n",
       "  Arr_Hour  Arr_Min  Arr_Sec Dept_Hour Dept_Min  Dept_Sec Travel_Time  \n",
       "0        0       00       00        10       25        00   -0.166667  \n",
       "1       11       06       00        11       08        00    0.000000  \n",
       "\n",
       "[2 rows x 22 columns]"
      ]
     },
     "execution_count": 52,
     "metadata": {},
     "output_type": "execute_result"
    }
   ],
   "source": [
    "final_df.head(2)"
   ]
  },
  {
   "cell_type": "code",
   "execution_count": 53,
   "id": "e61bd5d1-d185-49a0-ab8f-45b421eef761",
   "metadata": {},
   "outputs": [
    {
     "data": {
      "text/plain": [
       "<Axes: xlabel='Train_Name', ylabel='Distance'>"
      ]
     },
     "execution_count": 53,
     "metadata": {},
     "output_type": "execute_result"
    },
    {
     "data": {
      "image/png": "[encoded data removed]",
      "text/plain": [
       "<Figure size 640x480 with 1 Axes>"
      ]
     },
     "metadata": {},
     "output_type": "display_data"
    }
   ],
   "source": [
    "subset_df = final_df.head(3)\n",
    "\n",
    "# Create the bar plot\n",
    "sns.barplot(x=\"Train_Name\", y=\"Distance\", data=subset_df)\n"
   ]
  },
  {
   "cell_type": "code",
   "execution_count": 54,
   "id": "9972e212-84af-40ee-943b-e41da3a5d4f8",
   "metadata": {},
   "outputs": [
    {
     "data": {
      "text/plain": [
       "281.3538377204768"
      ]
     },
     "execution_count": 54,
     "metadata": {},
     "output_type": "execute_result"
    }
   ],
   "source": [
    "final_df[\"Distance\"].mean()"
   ]
  },
  {
   "cell_type": "markdown",
   "id": "89a95b74-bd0b-47e7-b8e2-3a8502e0e96a",
   "metadata": {},
   "source": [
    "                                             #Conclusion\n",
    "                                             1.MAO-KOP-SPEC has that train that travel the most\n",
    "                                             2.Average distance that they have travel is 281.353."
   ]
  },
  {
   "cell_type": "markdown",
   "id": "4637486f-6724-45d1-95bf-5983ffedeedb",
   "metadata": {},
   "source": [
    "                                                  #Bivariate Analysis"
   ]
  },
  {
   "cell_type": "code",
   "execution_count": 55,
   "id": "a855fee7-9af2-462b-ac66-5456d49ab52d",
   "metadata": {},
   "outputs": [
    {
     "data": {
      "text/html": [
       "<div>\n",
       "<style scoped>\n",
       "    .dataframe tbody tr th:only-of-type {\n",
       "        vertical-align: middle;\n",
       "    }\n",
       "\n",
       "    .dataframe tbody tr th {\n",
       "        vertical-align: top;\n",
       "    }\n",
       "\n",
       "    .dataframe thead th {\n",
       "        text-align: right;\n",
       "    }\n",
       "</style>\n",
       "<table border=\"1\" class=\"dataframe\">\n",
       "  <thead>\n",
       "    <tr style=\"text-align: right;\">\n",
       "      <th></th>\n",
       "      <th>Train_No</th>\n",
       "      <th>Train_Name</th>\n",
       "      <th>Source_Station_Name</th>\n",
       "      <th>Destination_Station_Name</th>\n",
       "      <th>SN</th>\n",
       "      <th>Station_Code</th>\n",
       "      <th>1A</th>\n",
       "      <th>2A</th>\n",
       "      <th>3A</th>\n",
       "      <th>SL</th>\n",
       "      <th>...</th>\n",
       "      <th>Arrival_time</th>\n",
       "      <th>Departure_Time</th>\n",
       "      <th>Distance</th>\n",
       "      <th>Arr_Hour</th>\n",
       "      <th>Arr_Min</th>\n",
       "      <th>Arr_Sec</th>\n",
       "      <th>Dept_Hour</th>\n",
       "      <th>Dept_Min</th>\n",
       "      <th>Dept_Sec</th>\n",
       "      <th>Travel_Time</th>\n",
       "    </tr>\n",
       "  </thead>\n",
       "  <tbody>\n",
       "    <tr>\n",
       "      <th>0</th>\n",
       "      <td>107.0</td>\n",
       "      <td>SWV-MAO-VLNK</td>\n",
       "      <td>SAWANTWADI ROAD</td>\n",
       "      <td>MADGOAN JN.</td>\n",
       "      <td>1</td>\n",
       "      <td>SWV</td>\n",
       "      <td>100</td>\n",
       "      <td>100</td>\n",
       "      <td>100</td>\n",
       "      <td>100</td>\n",
       "      <td>...</td>\n",
       "      <td>00:00:00</td>\n",
       "      <td>10:25:00</td>\n",
       "      <td>0</td>\n",
       "      <td>0</td>\n",
       "      <td>00</td>\n",
       "      <td>00</td>\n",
       "      <td>10</td>\n",
       "      <td>25</td>\n",
       "      <td>00</td>\n",
       "      <td>-0.166667</td>\n",
       "    </tr>\n",
       "    <tr>\n",
       "      <th>1</th>\n",
       "      <td>108.0</td>\n",
       "      <td>VLNK-MAO-SWV</td>\n",
       "      <td>MADGOAN JN.</td>\n",
       "      <td>SAWANTWADI ROAD</td>\n",
       "      <td>2</td>\n",
       "      <td>THVM</td>\n",
       "      <td>260</td>\n",
       "      <td>228</td>\n",
       "      <td>196</td>\n",
       "      <td>164</td>\n",
       "      <td>...</td>\n",
       "      <td>11:06:00</td>\n",
       "      <td>11:08:00</td>\n",
       "      <td>32</td>\n",
       "      <td>11</td>\n",
       "      <td>06</td>\n",
       "      <td>00</td>\n",
       "      <td>11</td>\n",
       "      <td>08</td>\n",
       "      <td>00</td>\n",
       "      <td>0.000000</td>\n",
       "    </tr>\n",
       "  </tbody>\n",
       "</table>\n",
       "<p>2 rows × 22 columns</p>\n",
       "</div>"
      ],
      "text/plain": [
       "   Train_No    Train_Name Source_Station_Name Destination_Station_Name  SN  \\\n",
       "0     107.0  SWV-MAO-VLNK     SAWANTWADI ROAD              MADGOAN JN.   1   \n",
       "1     108.0  VLNK-MAO-SWV         MADGOAN JN.          SAWANTWADI ROAD   2   \n",
       "\n",
       "  Station_Code   1A   2A   3A   SL  ... Arrival_time  Departure_Time Distance  \\\n",
       "0          SWV  100  100  100  100  ...     00:00:00        10:25:00        0   \n",
       "1         THVM  260  228  196  164  ...     11:06:00        11:08:00       32   \n",
       "\n",
       "  Arr_Hour  Arr_Min  Arr_Sec Dept_Hour Dept_Min  Dept_Sec Travel_Time  \n",
       "0        0       00       00        10       25        00   -0.166667  \n",
       "1       11       06       00        11       08        00    0.000000  \n",
       "\n",
       "[2 rows x 22 columns]"
      ]
     },
     "execution_count": 55,
     "metadata": {},
     "output_type": "execute_result"
    }
   ],
   "source": [
    "final_df.head(2)"
   ]
  },
  {
   "cell_type": "code",
   "execution_count": 56,
   "id": "a1f4a290-c1eb-4d39-8496-c67cf36d2d2f",
   "metadata": {},
   "outputs": [],
   "source": [
    "subplot=final_df.head(6)"
   ]
  },
  {
   "cell_type": "code",
   "execution_count": 57,
   "id": "b6a3ea6a-003d-454e-9290-062e387241c7",
   "metadata": {},
   "outputs": [
    {
     "data": {
      "text/plain": [
       "<Axes: xlabel='Source_Station_Name', ylabel='Train_No'>"
      ]
     },
     "execution_count": 57,
     "metadata": {},
     "output_type": "execute_result"
    },
    {
     "data": {
      "image/png": "[encoded data removed]",
      "text/plain": [
       "<Figure size 640x480 with 1 Axes>"
      ]
     },
     "metadata": {},
     "output_type": "display_data"
    }
   ],
   "source": [
    "sns.barplot(x=\"Source_Station_Name\",y=\"Train_No\",data=subplot)"
   ]
  },
  {
   "cell_type": "code",
   "execution_count": 58,
   "id": "bedd812c-d029-45a3-bc04-6a4e0a8b8c70",
   "metadata": {},
   "outputs": [
    {
     "data": {
      "text/plain": [
       "<Axes: xlabel='Destination_Station_Name', ylabel='Train_No'>"
      ]
     },
     "execution_count": 58,
     "metadata": {},
     "output_type": "execute_result"
    },
    {
     "data": {
      "image/png": "[encoded data removed]",
      "text/plain": [
       "<Figure size 640x480 with 1 Axes>"
      ]
     },
     "metadata": {},
     "output_type": "display_data"
    }
   ],
   "source": [
    "\n",
    "sns.barplot(x=\"Destination_Station_Name\",y=\"Train_No\",data=subplot)"
   ]
  },
  {
   "cell_type": "markdown",
   "id": "fdc24964-33cc-4ac7-8e93-f1b878fb6581",
   "metadata": {},
   "source": [
    "                                      #Conclusion:->\n",
    "                                      1.The most common Source Statiion is CST-MUMBAI AND LUCKNOW-JR.\n",
    "                                      2.the most common Destination Station is Vaishno devi katra."
   ]
  },
  {
   "cell_type": "code",
   "execution_count": 59,
   "id": "7121fa2c-6699-4f1c-a885-fac75b023ecb",
   "metadata": {},
   "outputs": [
    {
     "data": {
      "text/html": [
       "<div>\n",
       "<style scoped>\n",
       "    .dataframe tbody tr th:only-of-type {\n",
       "        vertical-align: middle;\n",
       "    }\n",
       "\n",
       "    .dataframe tbody tr th {\n",
       "        vertical-align: top;\n",
       "    }\n",
       "\n",
       "    .dataframe thead th {\n",
       "        text-align: right;\n",
       "    }\n",
       "</style>\n",
       "<table border=\"1\" class=\"dataframe\">\n",
       "  <thead>\n",
       "    <tr style=\"text-align: right;\">\n",
       "      <th></th>\n",
       "      <th>Train_No</th>\n",
       "      <th>Train_Name</th>\n",
       "      <th>Source_Station_Name</th>\n",
       "      <th>Destination_Station_Name</th>\n",
       "      <th>SN</th>\n",
       "      <th>Station_Code</th>\n",
       "      <th>1A</th>\n",
       "      <th>2A</th>\n",
       "      <th>3A</th>\n",
       "      <th>SL</th>\n",
       "      <th>...</th>\n",
       "      <th>Arrival_time</th>\n",
       "      <th>Departure_Time</th>\n",
       "      <th>Distance</th>\n",
       "      <th>Arr_Hour</th>\n",
       "      <th>Arr_Min</th>\n",
       "      <th>Arr_Sec</th>\n",
       "      <th>Dept_Hour</th>\n",
       "      <th>Dept_Min</th>\n",
       "      <th>Dept_Sec</th>\n",
       "      <th>Travel_Time</th>\n",
       "    </tr>\n",
       "  </thead>\n",
       "  <tbody>\n",
       "    <tr>\n",
       "      <th>0</th>\n",
       "      <td>107.0</td>\n",
       "      <td>SWV-MAO-VLNK</td>\n",
       "      <td>SAWANTWADI ROAD</td>\n",
       "      <td>MADGOAN JN.</td>\n",
       "      <td>1</td>\n",
       "      <td>SWV</td>\n",
       "      <td>100</td>\n",
       "      <td>100</td>\n",
       "      <td>100</td>\n",
       "      <td>100</td>\n",
       "      <td>...</td>\n",
       "      <td>00:00:00</td>\n",
       "      <td>10:25:00</td>\n",
       "      <td>0</td>\n",
       "      <td>0</td>\n",
       "      <td>00</td>\n",
       "      <td>00</td>\n",
       "      <td>10</td>\n",
       "      <td>25</td>\n",
       "      <td>00</td>\n",
       "      <td>-0.166667</td>\n",
       "    </tr>\n",
       "    <tr>\n",
       "      <th>1</th>\n",
       "      <td>108.0</td>\n",
       "      <td>VLNK-MAO-SWV</td>\n",
       "      <td>MADGOAN JN.</td>\n",
       "      <td>SAWANTWADI ROAD</td>\n",
       "      <td>2</td>\n",
       "      <td>THVM</td>\n",
       "      <td>260</td>\n",
       "      <td>228</td>\n",
       "      <td>196</td>\n",
       "      <td>164</td>\n",
       "      <td>...</td>\n",
       "      <td>11:06:00</td>\n",
       "      <td>11:08:00</td>\n",
       "      <td>32</td>\n",
       "      <td>11</td>\n",
       "      <td>06</td>\n",
       "      <td>00</td>\n",
       "      <td>11</td>\n",
       "      <td>08</td>\n",
       "      <td>00</td>\n",
       "      <td>0.000000</td>\n",
       "    </tr>\n",
       "    <tr>\n",
       "      <th>2</th>\n",
       "      <td>128.0</td>\n",
       "      <td>MAO-KOP SPEC</td>\n",
       "      <td>MADGOAN JN.</td>\n",
       "      <td>CHHATRAPATI SHAHU MAHARAJ TERMINUS</td>\n",
       "      <td>3</td>\n",
       "      <td>KRMI</td>\n",
       "      <td>345</td>\n",
       "      <td>296</td>\n",
       "      <td>247</td>\n",
       "      <td>198</td>\n",
       "      <td>...</td>\n",
       "      <td>11:28:00</td>\n",
       "      <td>11:30:00</td>\n",
       "      <td>49</td>\n",
       "      <td>11</td>\n",
       "      <td>28</td>\n",
       "      <td>00</td>\n",
       "      <td>11</td>\n",
       "      <td>30</td>\n",
       "      <td>00</td>\n",
       "      <td>0.000000</td>\n",
       "    </tr>\n",
       "    <tr>\n",
       "      <th>3</th>\n",
       "      <td>290.0</td>\n",
       "      <td>PALACE ON WH</td>\n",
       "      <td>DELHI-SAFDAR JANG</td>\n",
       "      <td>DELHI-SAFDAR JANG</td>\n",
       "      <td>4</td>\n",
       "      <td>MAO</td>\n",
       "      <td>490</td>\n",
       "      <td>412</td>\n",
       "      <td>334</td>\n",
       "      <td>256</td>\n",
       "      <td>...</td>\n",
       "      <td>12:10:00</td>\n",
       "      <td>00:00:00</td>\n",
       "      <td>78</td>\n",
       "      <td>12</td>\n",
       "      <td>10</td>\n",
       "      <td>00</td>\n",
       "      <td>0</td>\n",
       "      <td>00</td>\n",
       "      <td>00</td>\n",
       "      <td>0.200000</td>\n",
       "    </tr>\n",
       "    <tr>\n",
       "      <th>4</th>\n",
       "      <td>401.0</td>\n",
       "      <td>BSB BHARATDA</td>\n",
       "      <td>AURANGABAD</td>\n",
       "      <td>VARANASI JN.</td>\n",
       "      <td>1</td>\n",
       "      <td>MAO</td>\n",
       "      <td>100</td>\n",
       "      <td>100</td>\n",
       "      <td>100</td>\n",
       "      <td>100</td>\n",
       "      <td>...</td>\n",
       "      <td>00:00:00</td>\n",
       "      <td>20:30:00</td>\n",
       "      <td>0</td>\n",
       "      <td>0</td>\n",
       "      <td>00</td>\n",
       "      <td>00</td>\n",
       "      <td>20</td>\n",
       "      <td>30</td>\n",
       "      <td>00</td>\n",
       "      <td>-0.333333</td>\n",
       "    </tr>\n",
       "  </tbody>\n",
       "</table>\n",
       "<p>5 rows × 22 columns</p>\n",
       "</div>"
      ],
      "text/plain": [
       "   Train_No    Train_Name Source_Station_Name  \\\n",
       "0     107.0  SWV-MAO-VLNK     SAWANTWADI ROAD   \n",
       "1     108.0  VLNK-MAO-SWV         MADGOAN JN.   \n",
       "2     128.0  MAO-KOP SPEC         MADGOAN JN.   \n",
       "3     290.0  PALACE ON WH   DELHI-SAFDAR JANG   \n",
       "4     401.0  BSB BHARATDA          AURANGABAD   \n",
       "\n",
       "             Destination_Station_Name  SN Station_Code   1A   2A   3A   SL  \\\n",
       "0                         MADGOAN JN.   1          SWV  100  100  100  100   \n",
       "1                     SAWANTWADI ROAD   2         THVM  260  228  196  164   \n",
       "2  CHHATRAPATI SHAHU MAHARAJ TERMINUS   3         KRMI  345  296  247  198   \n",
       "3                   DELHI-SAFDAR JANG   4          MAO  490  412  334  256   \n",
       "4                        VARANASI JN.   1          MAO  100  100  100  100   \n",
       "\n",
       "   ... Arrival_time  Departure_Time Distance Arr_Hour  Arr_Min  Arr_Sec  \\\n",
       "0  ...     00:00:00        10:25:00        0        0       00       00   \n",
       "1  ...     11:06:00        11:08:00       32       11       06       00   \n",
       "2  ...     11:28:00        11:30:00       49       11       28       00   \n",
       "3  ...     12:10:00        00:00:00       78       12       10       00   \n",
       "4  ...     00:00:00        20:30:00        0        0       00       00   \n",
       "\n",
       "  Dept_Hour Dept_Min  Dept_Sec Travel_Time  \n",
       "0        10       25        00   -0.166667  \n",
       "1        11       08        00    0.000000  \n",
       "2        11       30        00    0.000000  \n",
       "3         0       00        00    0.200000  \n",
       "4        20       30        00   -0.333333  \n",
       "\n",
       "[5 rows x 22 columns]"
      ]
     },
     "execution_count": 59,
     "metadata": {},
     "output_type": "execute_result"
    }
   ],
   "source": [
    "#Relationship between route number and distance\n",
    "final_df.head()"
   ]
  },
  {
   "cell_type": "code",
   "execution_count": 60,
   "id": "9b14a9c8-9ad4-4729-ad3a-0e2e6b8497bb",
   "metadata": {},
   "outputs": [
    {
     "data": {
      "text/plain": [
       "<Axes: xlabel='Route_Number', ylabel='Distance'>"
      ]
     },
     "execution_count": 60,
     "metadata": {},
     "output_type": "execute_result"
    },
    {
     "data": {
      "image/png": "[encoded data removed]",
      "text/plain": [
       "<Figure size 640x480 with 1 Axes>"
      ]
     },
     "metadata": {},
     "output_type": "display_data"
    }
   ],
   "source": [
    "sns.barplot(x=\"Route_Number\",y=\"Distance\",data=final_df)"
   ]
  },
  {
   "cell_type": "markdown",
   "id": "cac2a1bd-a075-40ad-af4d-b8db42e57d1e",
   "metadata": {},
   "source": [
    "                                         #Conclusion:->\n",
    "                                         1.Majority of the trains ahs only one ROUTE i.e 1.\n",
    "                                         2.Max.distance is 250 km and above.\n"
   ]
  },
  {
   "cell_type": "code",
   "execution_count": 61,
   "id": "8dc04c49-878d-4d3e-a772-04d4df69e185",
   "metadata": {},
   "outputs": [],
   "source": [
    "# ARRIVAL TIME EFFECT ON  DEPARTURE TIME"
   ]
  },
  {
   "cell_type": "code",
   "execution_count": 62,
   "id": "87123149-b551-4566-a7bf-6139521bca02",
   "metadata": {},
   "outputs": [
    {
     "name": "stderr",
     "output_type": "stream",
     "text": [
      "C:\\Users\\anshm\\AppData\\Local\\Temp\\ipykernel_17032\\1526237502.py:1: FutureWarning: \n",
      "\n",
      "Passing `palette` without assigning `hue` is deprecated and will be removed in v0.14.0. Assign the `x` variable to `hue` and set `legend=False` for the same effect.\n",
      "\n",
      "  sns.barplot(x=\"Arr_Hour\",y=\"Dept_Hour\",data=final_df, palette=\"Set1\")\n"
     ]
    },
    {
     "data": {
      "text/plain": [
       "Text(0.5, 1.0, 'ARRIVAL TIME ~~~~ DEPARTURE TIME')"
      ]
     },
     "execution_count": 62,
     "metadata": {},
     "output_type": "execute_result"
    },
    {
     "data": {
      "image/png": "[encoded data removed]",
      "text/plain": [
       "<Figure size 640x480 with 1 Axes>"
      ]
     },
     "metadata": {},
     "output_type": "display_data"
    }
   ],
   "source": [
    "sns.barplot(x=\"Arr_Hour\",y=\"Dept_Hour\",data=final_df, palette=\"Set1\")\n",
    "plt.title(\"ARRIVAL TIME ~~~~ DEPARTURE TIME\")"
   ]
  },
  {
   "cell_type": "markdown",
   "id": "569cd955-015f-4866-81c3-b3fc58716487",
   "metadata": {},
   "source": [
    "                                             #Conclusion:->\n",
    "                                             1.It shows that more the arrival time more is the departure time means arrival time\n",
    "                                             is directly proportional to Dept_Hour."
   ]
  },
  {
   "cell_type": "code",
   "execution_count": 63,
   "id": "ca5cd1f0-65d5-4646-8d57-410641ed1ab9",
   "metadata": {},
   "outputs": [
    {
     "data": {
      "text/html": [
       "<div>\n",
       "<style scoped>\n",
       "    .dataframe tbody tr th:only-of-type {\n",
       "        vertical-align: middle;\n",
       "    }\n",
       "\n",
       "    .dataframe tbody tr th {\n",
       "        vertical-align: top;\n",
       "    }\n",
       "\n",
       "    .dataframe thead th {\n",
       "        text-align: right;\n",
       "    }\n",
       "</style>\n",
       "<table border=\"1\" class=\"dataframe\">\n",
       "  <thead>\n",
       "    <tr style=\"text-align: right;\">\n",
       "      <th></th>\n",
       "      <th>Train_No</th>\n",
       "      <th>Train_Name</th>\n",
       "      <th>Source_Station_Name</th>\n",
       "      <th>Destination_Station_Name</th>\n",
       "      <th>SN</th>\n",
       "      <th>Station_Code</th>\n",
       "      <th>1A</th>\n",
       "      <th>2A</th>\n",
       "      <th>3A</th>\n",
       "      <th>SL</th>\n",
       "      <th>...</th>\n",
       "      <th>Arrival_time</th>\n",
       "      <th>Departure_Time</th>\n",
       "      <th>Distance</th>\n",
       "      <th>Arr_Hour</th>\n",
       "      <th>Arr_Min</th>\n",
       "      <th>Arr_Sec</th>\n",
       "      <th>Dept_Hour</th>\n",
       "      <th>Dept_Min</th>\n",
       "      <th>Dept_Sec</th>\n",
       "      <th>Travel_Time</th>\n",
       "    </tr>\n",
       "  </thead>\n",
       "  <tbody>\n",
       "    <tr>\n",
       "      <th>0</th>\n",
       "      <td>107.0</td>\n",
       "      <td>SWV-MAO-VLNK</td>\n",
       "      <td>SAWANTWADI ROAD</td>\n",
       "      <td>MADGOAN JN.</td>\n",
       "      <td>1</td>\n",
       "      <td>SWV</td>\n",
       "      <td>100</td>\n",
       "      <td>100</td>\n",
       "      <td>100</td>\n",
       "      <td>100</td>\n",
       "      <td>...</td>\n",
       "      <td>00:00:00</td>\n",
       "      <td>10:25:00</td>\n",
       "      <td>0</td>\n",
       "      <td>0</td>\n",
       "      <td>00</td>\n",
       "      <td>00</td>\n",
       "      <td>10</td>\n",
       "      <td>25</td>\n",
       "      <td>00</td>\n",
       "      <td>-0.166667</td>\n",
       "    </tr>\n",
       "    <tr>\n",
       "      <th>1</th>\n",
       "      <td>108.0</td>\n",
       "      <td>VLNK-MAO-SWV</td>\n",
       "      <td>MADGOAN JN.</td>\n",
       "      <td>SAWANTWADI ROAD</td>\n",
       "      <td>2</td>\n",
       "      <td>THVM</td>\n",
       "      <td>260</td>\n",
       "      <td>228</td>\n",
       "      <td>196</td>\n",
       "      <td>164</td>\n",
       "      <td>...</td>\n",
       "      <td>11:06:00</td>\n",
       "      <td>11:08:00</td>\n",
       "      <td>32</td>\n",
       "      <td>11</td>\n",
       "      <td>06</td>\n",
       "      <td>00</td>\n",
       "      <td>11</td>\n",
       "      <td>08</td>\n",
       "      <td>00</td>\n",
       "      <td>0.000000</td>\n",
       "    </tr>\n",
       "    <tr>\n",
       "      <th>2</th>\n",
       "      <td>128.0</td>\n",
       "      <td>MAO-KOP SPEC</td>\n",
       "      <td>MADGOAN JN.</td>\n",
       "      <td>CHHATRAPATI SHAHU MAHARAJ TERMINUS</td>\n",
       "      <td>3</td>\n",
       "      <td>KRMI</td>\n",
       "      <td>345</td>\n",
       "      <td>296</td>\n",
       "      <td>247</td>\n",
       "      <td>198</td>\n",
       "      <td>...</td>\n",
       "      <td>11:28:00</td>\n",
       "      <td>11:30:00</td>\n",
       "      <td>49</td>\n",
       "      <td>11</td>\n",
       "      <td>28</td>\n",
       "      <td>00</td>\n",
       "      <td>11</td>\n",
       "      <td>30</td>\n",
       "      <td>00</td>\n",
       "      <td>0.000000</td>\n",
       "    </tr>\n",
       "    <tr>\n",
       "      <th>3</th>\n",
       "      <td>290.0</td>\n",
       "      <td>PALACE ON WH</td>\n",
       "      <td>DELHI-SAFDAR JANG</td>\n",
       "      <td>DELHI-SAFDAR JANG</td>\n",
       "      <td>4</td>\n",
       "      <td>MAO</td>\n",
       "      <td>490</td>\n",
       "      <td>412</td>\n",
       "      <td>334</td>\n",
       "      <td>256</td>\n",
       "      <td>...</td>\n",
       "      <td>12:10:00</td>\n",
       "      <td>00:00:00</td>\n",
       "      <td>78</td>\n",
       "      <td>12</td>\n",
       "      <td>10</td>\n",
       "      <td>00</td>\n",
       "      <td>0</td>\n",
       "      <td>00</td>\n",
       "      <td>00</td>\n",
       "      <td>0.200000</td>\n",
       "    </tr>\n",
       "    <tr>\n",
       "      <th>4</th>\n",
       "      <td>401.0</td>\n",
       "      <td>BSB BHARATDA</td>\n",
       "      <td>AURANGABAD</td>\n",
       "      <td>VARANASI JN.</td>\n",
       "      <td>1</td>\n",
       "      <td>MAO</td>\n",
       "      <td>100</td>\n",
       "      <td>100</td>\n",
       "      <td>100</td>\n",
       "      <td>100</td>\n",
       "      <td>...</td>\n",
       "      <td>00:00:00</td>\n",
       "      <td>20:30:00</td>\n",
       "      <td>0</td>\n",
       "      <td>0</td>\n",
       "      <td>00</td>\n",
       "      <td>00</td>\n",
       "      <td>20</td>\n",
       "      <td>30</td>\n",
       "      <td>00</td>\n",
       "      <td>-0.333333</td>\n",
       "    </tr>\n",
       "  </tbody>\n",
       "</table>\n",
       "<p>5 rows × 22 columns</p>\n",
       "</div>"
      ],
      "text/plain": [
       "   Train_No    Train_Name Source_Station_Name  \\\n",
       "0     107.0  SWV-MAO-VLNK     SAWANTWADI ROAD   \n",
       "1     108.0  VLNK-MAO-SWV         MADGOAN JN.   \n",
       "2     128.0  MAO-KOP SPEC         MADGOAN JN.   \n",
       "3     290.0  PALACE ON WH   DELHI-SAFDAR JANG   \n",
       "4     401.0  BSB BHARATDA          AURANGABAD   \n",
       "\n",
       "             Destination_Station_Name  SN Station_Code   1A   2A   3A   SL  \\\n",
       "0                         MADGOAN JN.   1          SWV  100  100  100  100   \n",
       "1                     SAWANTWADI ROAD   2         THVM  260  228  196  164   \n",
       "2  CHHATRAPATI SHAHU MAHARAJ TERMINUS   3         KRMI  345  296  247  198   \n",
       "3                   DELHI-SAFDAR JANG   4          MAO  490  412  334  256   \n",
       "4                        VARANASI JN.   1          MAO  100  100  100  100   \n",
       "\n",
       "   ... Arrival_time  Departure_Time Distance Arr_Hour  Arr_Min  Arr_Sec  \\\n",
       "0  ...     00:00:00        10:25:00        0        0       00       00   \n",
       "1  ...     11:06:00        11:08:00       32       11       06       00   \n",
       "2  ...     11:28:00        11:30:00       49       11       28       00   \n",
       "3  ...     12:10:00        00:00:00       78       12       10       00   \n",
       "4  ...     00:00:00        20:30:00        0        0       00       00   \n",
       "\n",
       "  Dept_Hour Dept_Min  Dept_Sec Travel_Time  \n",
       "0        10       25        00   -0.166667  \n",
       "1        11       08        00    0.000000  \n",
       "2        11       30        00    0.000000  \n",
       "3         0       00        00    0.200000  \n",
       "4        20       30        00   -0.333333  \n",
       "\n",
       "[5 rows x 22 columns]"
      ]
     },
     "execution_count": 63,
     "metadata": {},
     "output_type": "execute_result"
    }
   ],
   "source": [
    "final_df.head()"
   ]
  },
  {
   "cell_type": "code",
   "execution_count": 64,
   "id": "668d457b-0b3b-4a6d-b640-8ce5be9e933e",
   "metadata": {},
   "outputs": [],
   "source": [
    "#Train code and Destination stataion_name\n",
    "smart_counts=final_df.groupby(\"Destination_Station_Name\")[\"Train_No\"].nunique()"
   ]
  },
  {
   "cell_type": "code",
   "execution_count": 65,
   "id": "511c065c-9a4f-48b6-a518-0d61b2471999",
   "metadata": {},
   "outputs": [
    {
     "data": {
      "image/png": "[encoded data removed]",
      "text/plain": [
       "<Figure size 1000x600 with 1 Axes>"
      ]
     },
     "metadata": {},
     "output_type": "display_data"
    }
   ],
   "source": [
    "plt.figure(figsize=(10, 6))\n",
    "plt.pie(smart_counts[:7],labels=smart_counts.index[:7],autopct=\"%1.1f%%\")\n",
    "plt.title('Percentage of Trains Stopping at Each Station')\n",
    "plt.show()"
   ]
  },
  {
   "cell_type": "markdown",
   "id": "b5a59685-0fa3-4971-abdc-f8732eb65dc3",
   "metadata": {},
   "source": [
    "                                         #Concluison:->\n",
    "                                         1.Most of the trains is stopped in ADRA station."
   ]
  },
  {
   "cell_type": "code",
   "execution_count": 66,
   "id": "2089995f-65ec-4621-87e9-b2f9d070babb",
   "metadata": {},
   "outputs": [],
   "source": [
    "#train and it's classes"
   ]
  },
  {
   "cell_type": "code",
   "execution_count": 67,
   "id": "065ff139-9614-4d66-9a09-c297efb7b459",
   "metadata": {},
   "outputs": [
    {
     "data": {
      "text/html": [
       "<div>\n",
       "<style scoped>\n",
       "    .dataframe tbody tr th:only-of-type {\n",
       "        vertical-align: middle;\n",
       "    }\n",
       "\n",
       "    .dataframe tbody tr th {\n",
       "        vertical-align: top;\n",
       "    }\n",
       "\n",
       "    .dataframe thead th {\n",
       "        text-align: right;\n",
       "    }\n",
       "</style>\n",
       "<table border=\"1\" class=\"dataframe\">\n",
       "  <thead>\n",
       "    <tr style=\"text-align: right;\">\n",
       "      <th></th>\n",
       "      <th>Train_No</th>\n",
       "      <th>Train_Name</th>\n",
       "      <th>Source_Station_Name</th>\n",
       "      <th>Destination_Station_Name</th>\n",
       "      <th>SN</th>\n",
       "      <th>Station_Code</th>\n",
       "      <th>1A</th>\n",
       "      <th>2A</th>\n",
       "      <th>3A</th>\n",
       "      <th>SL</th>\n",
       "      <th>...</th>\n",
       "      <th>Arrival_time</th>\n",
       "      <th>Departure_Time</th>\n",
       "      <th>Distance</th>\n",
       "      <th>Arr_Hour</th>\n",
       "      <th>Arr_Min</th>\n",
       "      <th>Arr_Sec</th>\n",
       "      <th>Dept_Hour</th>\n",
       "      <th>Dept_Min</th>\n",
       "      <th>Dept_Sec</th>\n",
       "      <th>Travel_Time</th>\n",
       "    </tr>\n",
       "  </thead>\n",
       "  <tbody>\n",
       "    <tr>\n",
       "      <th>0</th>\n",
       "      <td>107.0</td>\n",
       "      <td>SWV-MAO-VLNK</td>\n",
       "      <td>SAWANTWADI ROAD</td>\n",
       "      <td>MADGOAN JN.</td>\n",
       "      <td>1</td>\n",
       "      <td>SWV</td>\n",
       "      <td>100</td>\n",
       "      <td>100</td>\n",
       "      <td>100</td>\n",
       "      <td>100</td>\n",
       "      <td>...</td>\n",
       "      <td>00:00:00</td>\n",
       "      <td>10:25:00</td>\n",
       "      <td>0</td>\n",
       "      <td>0</td>\n",
       "      <td>00</td>\n",
       "      <td>00</td>\n",
       "      <td>10</td>\n",
       "      <td>25</td>\n",
       "      <td>00</td>\n",
       "      <td>-0.166667</td>\n",
       "    </tr>\n",
       "    <tr>\n",
       "      <th>1</th>\n",
       "      <td>108.0</td>\n",
       "      <td>VLNK-MAO-SWV</td>\n",
       "      <td>MADGOAN JN.</td>\n",
       "      <td>SAWANTWADI ROAD</td>\n",
       "      <td>2</td>\n",
       "      <td>THVM</td>\n",
       "      <td>260</td>\n",
       "      <td>228</td>\n",
       "      <td>196</td>\n",
       "      <td>164</td>\n",
       "      <td>...</td>\n",
       "      <td>11:06:00</td>\n",
       "      <td>11:08:00</td>\n",
       "      <td>32</td>\n",
       "      <td>11</td>\n",
       "      <td>06</td>\n",
       "      <td>00</td>\n",
       "      <td>11</td>\n",
       "      <td>08</td>\n",
       "      <td>00</td>\n",
       "      <td>0.000000</td>\n",
       "    </tr>\n",
       "    <tr>\n",
       "      <th>2</th>\n",
       "      <td>128.0</td>\n",
       "      <td>MAO-KOP SPEC</td>\n",
       "      <td>MADGOAN JN.</td>\n",
       "      <td>CHHATRAPATI SHAHU MAHARAJ TERMINUS</td>\n",
       "      <td>3</td>\n",
       "      <td>KRMI</td>\n",
       "      <td>345</td>\n",
       "      <td>296</td>\n",
       "      <td>247</td>\n",
       "      <td>198</td>\n",
       "      <td>...</td>\n",
       "      <td>11:28:00</td>\n",
       "      <td>11:30:00</td>\n",
       "      <td>49</td>\n",
       "      <td>11</td>\n",
       "      <td>28</td>\n",
       "      <td>00</td>\n",
       "      <td>11</td>\n",
       "      <td>30</td>\n",
       "      <td>00</td>\n",
       "      <td>0.000000</td>\n",
       "    </tr>\n",
       "    <tr>\n",
       "      <th>3</th>\n",
       "      <td>290.0</td>\n",
       "      <td>PALACE ON WH</td>\n",
       "      <td>DELHI-SAFDAR JANG</td>\n",
       "      <td>DELHI-SAFDAR JANG</td>\n",
       "      <td>4</td>\n",
       "      <td>MAO</td>\n",
       "      <td>490</td>\n",
       "      <td>412</td>\n",
       "      <td>334</td>\n",
       "      <td>256</td>\n",
       "      <td>...</td>\n",
       "      <td>12:10:00</td>\n",
       "      <td>00:00:00</td>\n",
       "      <td>78</td>\n",
       "      <td>12</td>\n",
       "      <td>10</td>\n",
       "      <td>00</td>\n",
       "      <td>0</td>\n",
       "      <td>00</td>\n",
       "      <td>00</td>\n",
       "      <td>0.200000</td>\n",
       "    </tr>\n",
       "    <tr>\n",
       "      <th>4</th>\n",
       "      <td>401.0</td>\n",
       "      <td>BSB BHARATDA</td>\n",
       "      <td>AURANGABAD</td>\n",
       "      <td>VARANASI JN.</td>\n",
       "      <td>1</td>\n",
       "      <td>MAO</td>\n",
       "      <td>100</td>\n",
       "      <td>100</td>\n",
       "      <td>100</td>\n",
       "      <td>100</td>\n",
       "      <td>...</td>\n",
       "      <td>00:00:00</td>\n",
       "      <td>20:30:00</td>\n",
       "      <td>0</td>\n",
       "      <td>0</td>\n",
       "      <td>00</td>\n",
       "      <td>00</td>\n",
       "      <td>20</td>\n",
       "      <td>30</td>\n",
       "      <td>00</td>\n",
       "      <td>-0.333333</td>\n",
       "    </tr>\n",
       "  </tbody>\n",
       "</table>\n",
       "<p>5 rows × 22 columns</p>\n",
       "</div>"
      ],
      "text/plain": [
       "   Train_No    Train_Name Source_Station_Name  \\\n",
       "0     107.0  SWV-MAO-VLNK     SAWANTWADI ROAD   \n",
       "1     108.0  VLNK-MAO-SWV         MADGOAN JN.   \n",
       "2     128.0  MAO-KOP SPEC         MADGOAN JN.   \n",
       "3     290.0  PALACE ON WH   DELHI-SAFDAR JANG   \n",
       "4     401.0  BSB BHARATDA          AURANGABAD   \n",
       "\n",
       "             Destination_Station_Name  SN Station_Code   1A   2A   3A   SL  \\\n",
       "0                         MADGOAN JN.   1          SWV  100  100  100  100   \n",
       "1                     SAWANTWADI ROAD   2         THVM  260  228  196  164   \n",
       "2  CHHATRAPATI SHAHU MAHARAJ TERMINUS   3         KRMI  345  296  247  198   \n",
       "3                   DELHI-SAFDAR JANG   4          MAO  490  412  334  256   \n",
       "4                        VARANASI JN.   1          MAO  100  100  100  100   \n",
       "\n",
       "   ... Arrival_time  Departure_Time Distance Arr_Hour  Arr_Min  Arr_Sec  \\\n",
       "0  ...     00:00:00        10:25:00        0        0       00       00   \n",
       "1  ...     11:06:00        11:08:00       32       11       06       00   \n",
       "2  ...     11:28:00        11:30:00       49       11       28       00   \n",
       "3  ...     12:10:00        00:00:00       78       12       10       00   \n",
       "4  ...     00:00:00        20:30:00        0        0       00       00   \n",
       "\n",
       "  Dept_Hour Dept_Min  Dept_Sec Travel_Time  \n",
       "0        10       25        00   -0.166667  \n",
       "1        11       08        00    0.000000  \n",
       "2        11       30        00    0.000000  \n",
       "3         0       00        00    0.200000  \n",
       "4        20       30        00   -0.333333  \n",
       "\n",
       "[5 rows x 22 columns]"
      ]
     },
     "execution_count": 67,
     "metadata": {},
     "output_type": "execute_result"
    }
   ],
   "source": [
    "final_df.head()"
   ]
  },
  {
   "cell_type": "code",
   "execution_count": 68,
   "id": "0adccb9c-a7f8-4db1-b5c9-38492b903ca1",
   "metadata": {},
   "outputs": [],
   "source": [
    "subplot=final_df[\"1A\"].head()\n",
    "name=final_df[\"Train_Name\"].head()\n",
    "new=pd.concat([subplot,name],axis=1)"
   ]
  },
  {
   "cell_type": "code",
   "execution_count": 69,
   "id": "885f96e1-8cca-4e43-8a01-2405afde9bc6",
   "metadata": {},
   "outputs": [
    {
     "data": {
      "text/plain": [
       "<Axes: xlabel='Train_Name', ylabel='1A'>"
      ]
     },
     "execution_count": 69,
     "metadata": {},
     "output_type": "execute_result"
    },
    {
     "data": {
      "image/png": "[encoded data removed]",
      "text/plain": [
       "<Figure size 640x480 with 1 Axes>"
      ]
     },
     "metadata": {},
     "output_type": "display_data"
    }
   ],
   "source": [
    "sns.lineplot(x=\"Train_Name\",y=\"1A\",data=new)"
   ]
  },
  {
   "cell_type": "code",
   "execution_count": 70,
   "id": "c47679ed-9625-4b7e-a669-c8adb51e05aa",
   "metadata": {},
   "outputs": [],
   "source": [
    "final_df.drop(\"Arrival_time\",axis=1,inplace=True)\n",
    "final_df.drop(\"Departure_Time\",axis=1,inplace=True)"
   ]
  },
  {
   "cell_type": "markdown",
   "id": "9edbe62c-a984-42a9-9748-9c3a2efec90c",
   "metadata": {},
   "source": [
    "                                          #Conclusion:->\n",
    "                                          1.PalecON WH has the highest 1Ac Compartment."
   ]
  },
  {
   "cell_type": "code",
   "execution_count": 71,
   "id": "41ba4aab-9cb7-4cb6-8d9c-81177d371671",
   "metadata": {},
   "outputs": [
    {
     "data": {
      "text/html": [
       "<div>\n",
       "<style scoped>\n",
       "    .dataframe tbody tr th:only-of-type {\n",
       "        vertical-align: middle;\n",
       "    }\n",
       "\n",
       "    .dataframe tbody tr th {\n",
       "        vertical-align: top;\n",
       "    }\n",
       "\n",
       "    .dataframe thead th {\n",
       "        text-align: right;\n",
       "    }\n",
       "</style>\n",
       "<table border=\"1\" class=\"dataframe\">\n",
       "  <thead>\n",
       "    <tr style=\"text-align: right;\">\n",
       "      <th></th>\n",
       "      <th>Train_No</th>\n",
       "      <th>Train_Name</th>\n",
       "      <th>Source_Station_Name</th>\n",
       "      <th>Destination_Station_Name</th>\n",
       "      <th>SN</th>\n",
       "      <th>Station_Code</th>\n",
       "      <th>1A</th>\n",
       "      <th>2A</th>\n",
       "      <th>3A</th>\n",
       "      <th>SL</th>\n",
       "      <th>Station_Name</th>\n",
       "      <th>Route_Number</th>\n",
       "      <th>Distance</th>\n",
       "      <th>Arr_Hour</th>\n",
       "      <th>Arr_Min</th>\n",
       "      <th>Arr_Sec</th>\n",
       "      <th>Dept_Hour</th>\n",
       "      <th>Dept_Min</th>\n",
       "      <th>Dept_Sec</th>\n",
       "      <th>Travel_Time</th>\n",
       "    </tr>\n",
       "  </thead>\n",
       "  <tbody>\n",
       "    <tr>\n",
       "      <th>0</th>\n",
       "      <td>107.0</td>\n",
       "      <td>SWV-MAO-VLNK</td>\n",
       "      <td>SAWANTWADI ROAD</td>\n",
       "      <td>MADGOAN JN.</td>\n",
       "      <td>1</td>\n",
       "      <td>SWV</td>\n",
       "      <td>100</td>\n",
       "      <td>100</td>\n",
       "      <td>100</td>\n",
       "      <td>100</td>\n",
       "      <td>SAWANTWADI R</td>\n",
       "      <td>1</td>\n",
       "      <td>0</td>\n",
       "      <td>0</td>\n",
       "      <td>00</td>\n",
       "      <td>00</td>\n",
       "      <td>10</td>\n",
       "      <td>25</td>\n",
       "      <td>00</td>\n",
       "      <td>-0.166667</td>\n",
       "    </tr>\n",
       "    <tr>\n",
       "      <th>1</th>\n",
       "      <td>108.0</td>\n",
       "      <td>VLNK-MAO-SWV</td>\n",
       "      <td>MADGOAN JN.</td>\n",
       "      <td>SAWANTWADI ROAD</td>\n",
       "      <td>2</td>\n",
       "      <td>THVM</td>\n",
       "      <td>260</td>\n",
       "      <td>228</td>\n",
       "      <td>196</td>\n",
       "      <td>164</td>\n",
       "      <td>THIVIM</td>\n",
       "      <td>1</td>\n",
       "      <td>32</td>\n",
       "      <td>11</td>\n",
       "      <td>06</td>\n",
       "      <td>00</td>\n",
       "      <td>11</td>\n",
       "      <td>08</td>\n",
       "      <td>00</td>\n",
       "      <td>0.000000</td>\n",
       "    </tr>\n",
       "    <tr>\n",
       "      <th>2</th>\n",
       "      <td>128.0</td>\n",
       "      <td>MAO-KOP SPEC</td>\n",
       "      <td>MADGOAN JN.</td>\n",
       "      <td>CHHATRAPATI SHAHU MAHARAJ TERMINUS</td>\n",
       "      <td>3</td>\n",
       "      <td>KRMI</td>\n",
       "      <td>345</td>\n",
       "      <td>296</td>\n",
       "      <td>247</td>\n",
       "      <td>198</td>\n",
       "      <td>KARMALI</td>\n",
       "      <td>1</td>\n",
       "      <td>49</td>\n",
       "      <td>11</td>\n",
       "      <td>28</td>\n",
       "      <td>00</td>\n",
       "      <td>11</td>\n",
       "      <td>30</td>\n",
       "      <td>00</td>\n",
       "      <td>0.000000</td>\n",
       "    </tr>\n",
       "    <tr>\n",
       "      <th>3</th>\n",
       "      <td>290.0</td>\n",
       "      <td>PALACE ON WH</td>\n",
       "      <td>DELHI-SAFDAR JANG</td>\n",
       "      <td>DELHI-SAFDAR JANG</td>\n",
       "      <td>4</td>\n",
       "      <td>MAO</td>\n",
       "      <td>490</td>\n",
       "      <td>412</td>\n",
       "      <td>334</td>\n",
       "      <td>256</td>\n",
       "      <td>MADGOAN JN.</td>\n",
       "      <td>1</td>\n",
       "      <td>78</td>\n",
       "      <td>12</td>\n",
       "      <td>10</td>\n",
       "      <td>00</td>\n",
       "      <td>0</td>\n",
       "      <td>00</td>\n",
       "      <td>00</td>\n",
       "      <td>0.200000</td>\n",
       "    </tr>\n",
       "    <tr>\n",
       "      <th>4</th>\n",
       "      <td>401.0</td>\n",
       "      <td>BSB BHARATDA</td>\n",
       "      <td>AURANGABAD</td>\n",
       "      <td>VARANASI JN.</td>\n",
       "      <td>1</td>\n",
       "      <td>MAO</td>\n",
       "      <td>100</td>\n",
       "      <td>100</td>\n",
       "      <td>100</td>\n",
       "      <td>100</td>\n",
       "      <td>MADGOAN JN.</td>\n",
       "      <td>1</td>\n",
       "      <td>0</td>\n",
       "      <td>0</td>\n",
       "      <td>00</td>\n",
       "      <td>00</td>\n",
       "      <td>20</td>\n",
       "      <td>30</td>\n",
       "      <td>00</td>\n",
       "      <td>-0.333333</td>\n",
       "    </tr>\n",
       "  </tbody>\n",
       "</table>\n",
       "</div>"
      ],
      "text/plain": [
       "   Train_No    Train_Name Source_Station_Name  \\\n",
       "0     107.0  SWV-MAO-VLNK     SAWANTWADI ROAD   \n",
       "1     108.0  VLNK-MAO-SWV         MADGOAN JN.   \n",
       "2     128.0  MAO-KOP SPEC         MADGOAN JN.   \n",
       "3     290.0  PALACE ON WH   DELHI-SAFDAR JANG   \n",
       "4     401.0  BSB BHARATDA          AURANGABAD   \n",
       "\n",
       "             Destination_Station_Name  SN Station_Code   1A   2A   3A   SL  \\\n",
       "0                         MADGOAN JN.   1          SWV  100  100  100  100   \n",
       "1                     SAWANTWADI ROAD   2         THVM  260  228  196  164   \n",
       "2  CHHATRAPATI SHAHU MAHARAJ TERMINUS   3         KRMI  345  296  247  198   \n",
       "3                   DELHI-SAFDAR JANG   4          MAO  490  412  334  256   \n",
       "4                        VARANASI JN.   1          MAO  100  100  100  100   \n",
       "\n",
       "   Station_Name  Route_Number  Distance  Arr_Hour Arr_Min Arr_Sec  Dept_Hour  \\\n",
       "0  SAWANTWADI R             1         0         0      00      00         10   \n",
       "1        THIVIM             1        32        11      06      00         11   \n",
       "2       KARMALI             1        49        11      28      00         11   \n",
       "3   MADGOAN JN.             1        78        12      10      00          0   \n",
       "4   MADGOAN JN.             1         0         0      00      00         20   \n",
       "\n",
       "  Dept_Min Dept_Sec  Travel_Time  \n",
       "0       25       00    -0.166667  \n",
       "1       08       00     0.000000  \n",
       "2       30       00     0.000000  \n",
       "3       00       00     0.200000  \n",
       "4       30       00    -0.333333  "
      ]
     },
     "execution_count": 71,
     "metadata": {},
     "output_type": "execute_result"
    }
   ],
   "source": [
    "final_df.head()"
   ]
  },
  {
   "cell_type": "code",
   "execution_count": 72,
   "id": "f5652659-92c2-4806-88ef-56c2db87b2b3",
   "metadata": {},
   "outputs": [
    {
     "name": "stdout",
     "output_type": "stream",
     "text": [
      "<class 'pandas.core.frame.DataFrame'>\n",
      "RangeIndex: 186074 entries, 0 to 186073\n",
      "Data columns (total 20 columns):\n",
      " #   Column                    Non-Null Count   Dtype  \n",
      "---  ------                    --------------   -----  \n",
      " 0   Train_No                  186074 non-null  float64\n",
      " 1   Train_Name                186074 non-null  object \n",
      " 2   Source_Station_Name       186074 non-null  object \n",
      " 3   Destination_Station_Name  186074 non-null  object \n",
      " 4   SN                        186074 non-null  int64  \n",
      " 5   Station_Code              186074 non-null  object \n",
      " 6   1A                        186074 non-null  int64  \n",
      " 7   2A                        186074 non-null  int64  \n",
      " 8   3A                        186074 non-null  int64  \n",
      " 9   SL                        186074 non-null  int64  \n",
      " 10  Station_Name              186074 non-null  object \n",
      " 11  Route_Number              186074 non-null  int64  \n",
      " 12  Distance                  186074 non-null  int64  \n",
      " 13  Arr_Hour                  186074 non-null  int32  \n",
      " 14  Arr_Min                   186074 non-null  object \n",
      " 15  Arr_Sec                   186074 non-null  object \n",
      " 16  Dept_Hour                 186074 non-null  int32  \n",
      " 17  Dept_Min                  186074 non-null  object \n",
      " 18  Dept_Sec                  186074 non-null  object \n",
      " 19  Travel_Time               186074 non-null  float64\n",
      "dtypes: float64(2), int32(2), int64(7), object(9)\n",
      "memory usage: 27.0+ MB\n"
     ]
    }
   ],
   "source": [
    "final_df.info()"
   ]
  },
  {
   "cell_type": "code",
   "execution_count": 73,
   "id": "b183614e-4384-4857-94c4-892a691b241d",
   "metadata": {},
   "outputs": [],
   "source": [
    "final_df[\"Train_No\"]=final_df[\"Train_No\"].astype(int)\n",
    "final_df[\"Station_Code\"] = pd.to_numeric(final_df[\"Station_Code\"], errors='coerce')\n",
    "final_df[\"Arr_Min\"]=pd.to_numeric(final_df[\"Arr_Min\"],errors=\"coerce\")\n",
    "final_df[\"Arr_Sec\"]=pd.to_numeric(final_df[\"Arr_Sec\"],errors=\"coerce\")\n",
    "final_df[\"Dept_Min\"]=pd.to_numeric(final_df[\"Dept_Min\"],errors=\"coerce\")\n",
    "final_df[\"Dept_Sec\"]=pd.to_numeric(final_df[\"Dept_Sec\"],errors=\"coerce\")"
   ]
  },
  {
   "cell_type": "code",
   "execution_count": 74,
   "id": "da8a0793-e8b1-4f50-9af8-2d9cd5dd354a",
   "metadata": {},
   "outputs": [],
   "source": [
    "from sklearn.preprocessing import LabelEncoder"
   ]
  },
  {
   "cell_type": "code",
   "execution_count": 75,
   "id": "9a1b250b-1b73-4e30-acc1-6ea6a8381796",
   "metadata": {},
   "outputs": [],
   "source": [
    "lr=LabelEncoder()"
   ]
  },
  {
   "cell_type": "code",
   "execution_count": 76,
   "id": "aba8cbd7-1855-4e5a-8647-f4dd97a32aed",
   "metadata": {},
   "outputs": [],
   "source": [
    "final_df[\"Train_No\"] = lr.fit_transform(final_df[\"Train_No\"])"
   ]
  },
  {
   "cell_type": "code",
   "execution_count": 77,
   "id": "7e4719a7-2286-4923-9831-26b026e056ac",
   "metadata": {},
   "outputs": [],
   "source": [
    "final_df[\"Train_Name\"] = lr.fit_transform(final_df[\"Train_Name\"])"
   ]
  },
  {
   "cell_type": "code",
   "execution_count": 78,
   "id": "29bac849-e692-49e7-a85b-46fb63d50126",
   "metadata": {},
   "outputs": [],
   "source": [
    "final_df[\"Source_Station_Name\"] = lr.fit_transform(final_df[\"Source_Station_Name\"])"
   ]
  },
  {
   "cell_type": "code",
   "execution_count": 79,
   "id": "78c5db87-669d-443f-808f-9523fe42c96a",
   "metadata": {},
   "outputs": [],
   "source": [
    "final_df[\"Destination_Station_Name\"] = lr.fit_transform(final_df[\"Destination_Station_Name\"])"
   ]
  },
  {
   "cell_type": "code",
   "execution_count": 80,
   "id": "5802a161-d578-4a34-8727-4db953e40ac9",
   "metadata": {},
   "outputs": [],
   "source": [
    "final_df[\"Station_Code\"] = lr.fit_transform(final_df[\"Station_Code\"])"
   ]
  },
  {
   "cell_type": "code",
   "execution_count": 81,
   "id": "aa2176f1-e8b4-43cb-b863-97d91ae88ab7",
   "metadata": {},
   "outputs": [],
   "source": [
    "final_df[\"Station_Name\"] = lr.fit_transform(final_df[\"Station_Name\"])"
   ]
  },
  {
   "cell_type": "code",
   "execution_count": 82,
   "id": "3b109130-70ec-4550-84bc-cddd23b8827b",
   "metadata": {},
   "outputs": [
    {
     "data": {
      "text/html": [
       "<div>\n",
       "<style scoped>\n",
       "    .dataframe tbody tr th:only-of-type {\n",
       "        vertical-align: middle;\n",
       "    }\n",
       "\n",
       "    .dataframe tbody tr th {\n",
       "        vertical-align: top;\n",
       "    }\n",
       "\n",
       "    .dataframe thead th {\n",
       "        text-align: right;\n",
       "    }\n",
       "</style>\n",
       "<table border=\"1\" class=\"dataframe\">\n",
       "  <thead>\n",
       "    <tr style=\"text-align: right;\">\n",
       "      <th></th>\n",
       "      <th>Train_No</th>\n",
       "      <th>Train_Name</th>\n",
       "      <th>Source_Station_Name</th>\n",
       "      <th>Destination_Station_Name</th>\n",
       "      <th>SN</th>\n",
       "      <th>Station_Code</th>\n",
       "      <th>1A</th>\n",
       "      <th>2A</th>\n",
       "      <th>3A</th>\n",
       "      <th>SL</th>\n",
       "      <th>Station_Name</th>\n",
       "      <th>Route_Number</th>\n",
       "      <th>Distance</th>\n",
       "      <th>Arr_Hour</th>\n",
       "      <th>Arr_Min</th>\n",
       "      <th>Arr_Sec</th>\n",
       "      <th>Dept_Hour</th>\n",
       "      <th>Dept_Min</th>\n",
       "      <th>Dept_Sec</th>\n",
       "      <th>Travel_Time</th>\n",
       "    </tr>\n",
       "  </thead>\n",
       "  <tbody>\n",
       "    <tr>\n",
       "      <th>0</th>\n",
       "      <td>0</td>\n",
       "      <td>6442</td>\n",
       "      <td>772</td>\n",
       "      <td>522</td>\n",
       "      <td>1</td>\n",
       "      <td>0</td>\n",
       "      <td>100</td>\n",
       "      <td>100</td>\n",
       "      <td>100</td>\n",
       "      <td>100</td>\n",
       "      <td>6831</td>\n",
       "      <td>1</td>\n",
       "      <td>0</td>\n",
       "      <td>0</td>\n",
       "      <td>0</td>\n",
       "      <td>0</td>\n",
       "      <td>10</td>\n",
       "      <td>25</td>\n",
       "      <td>0</td>\n",
       "      <td>-0.166667</td>\n",
       "    </tr>\n",
       "    <tr>\n",
       "      <th>1</th>\n",
       "      <td>1</td>\n",
       "      <td>7378</td>\n",
       "      <td>522</td>\n",
       "      <td>775</td>\n",
       "      <td>2</td>\n",
       "      <td>0</td>\n",
       "      <td>260</td>\n",
       "      <td>228</td>\n",
       "      <td>196</td>\n",
       "      <td>164</td>\n",
       "      <td>7531</td>\n",
       "      <td>1</td>\n",
       "      <td>32</td>\n",
       "      <td>11</td>\n",
       "      <td>6</td>\n",
       "      <td>0</td>\n",
       "      <td>11</td>\n",
       "      <td>8</td>\n",
       "      <td>0</td>\n",
       "      <td>0.000000</td>\n",
       "    </tr>\n",
       "    <tr>\n",
       "      <th>2</th>\n",
       "      <td>2</td>\n",
       "      <td>4040</td>\n",
       "      <td>522</td>\n",
       "      <td>206</td>\n",
       "      <td>3</td>\n",
       "      <td>0</td>\n",
       "      <td>345</td>\n",
       "      <td>296</td>\n",
       "      <td>247</td>\n",
       "      <td>198</td>\n",
       "      <td>3656</td>\n",
       "      <td>1</td>\n",
       "      <td>49</td>\n",
       "      <td>11</td>\n",
       "      <td>28</td>\n",
       "      <td>0</td>\n",
       "      <td>11</td>\n",
       "      <td>30</td>\n",
       "      <td>0</td>\n",
       "      <td>0.000000</td>\n",
       "    </tr>\n",
       "    <tr>\n",
       "      <th>3</th>\n",
       "      <td>3</td>\n",
       "      <td>4872</td>\n",
       "      <td>249</td>\n",
       "      <td>248</td>\n",
       "      <td>4</td>\n",
       "      <td>0</td>\n",
       "      <td>490</td>\n",
       "      <td>412</td>\n",
       "      <td>334</td>\n",
       "      <td>256</td>\n",
       "      <td>4487</td>\n",
       "      <td>1</td>\n",
       "      <td>78</td>\n",
       "      <td>12</td>\n",
       "      <td>10</td>\n",
       "      <td>0</td>\n",
       "      <td>0</td>\n",
       "      <td>0</td>\n",
       "      <td>0</td>\n",
       "      <td>0.200000</td>\n",
       "    </tr>\n",
       "    <tr>\n",
       "      <th>4</th>\n",
       "      <td>4</td>\n",
       "      <td>1286</td>\n",
       "      <td>47</td>\n",
       "      <td>894</td>\n",
       "      <td>1</td>\n",
       "      <td>0</td>\n",
       "      <td>100</td>\n",
       "      <td>100</td>\n",
       "      <td>100</td>\n",
       "      <td>100</td>\n",
       "      <td>4487</td>\n",
       "      <td>1</td>\n",
       "      <td>0</td>\n",
       "      <td>0</td>\n",
       "      <td>0</td>\n",
       "      <td>0</td>\n",
       "      <td>20</td>\n",
       "      <td>30</td>\n",
       "      <td>0</td>\n",
       "      <td>-0.333333</td>\n",
       "    </tr>\n",
       "  </tbody>\n",
       "</table>\n",
       "</div>"
      ],
      "text/plain": [
       "   Train_No  Train_Name  Source_Station_Name  Destination_Station_Name  SN  \\\n",
       "0         0        6442                  772                       522   1   \n",
       "1         1        7378                  522                       775   2   \n",
       "2         2        4040                  522                       206   3   \n",
       "3         3        4872                  249                       248   4   \n",
       "4         4        1286                   47                       894   1   \n",
       "\n",
       "   Station_Code   1A   2A   3A   SL  Station_Name  Route_Number  Distance  \\\n",
       "0             0  100  100  100  100          6831             1         0   \n",
       "1             0  260  228  196  164          7531             1        32   \n",
       "2             0  345  296  247  198          3656             1        49   \n",
       "3             0  490  412  334  256          4487             1        78   \n",
       "4             0  100  100  100  100          4487             1         0   \n",
       "\n",
       "   Arr_Hour  Arr_Min  Arr_Sec  Dept_Hour  Dept_Min  Dept_Sec  Travel_Time  \n",
       "0         0        0        0         10        25         0    -0.166667  \n",
       "1        11        6        0         11         8         0     0.000000  \n",
       "2        11       28        0         11        30         0     0.000000  \n",
       "3        12       10        0          0         0         0     0.200000  \n",
       "4         0        0        0         20        30         0    -0.333333  "
      ]
     },
     "execution_count": 82,
     "metadata": {},
     "output_type": "execute_result"
    }
   ],
   "source": [
    "final_df.head()"
   ]
  },
  {
   "cell_type": "code",
   "execution_count": null,
   "id": "9b1d71bd-de23-4920-9fa0-21f85fce6528",
   "metadata": {},
   "outputs": [],
   "source": []
  },
  {
   "cell_type": "code",
   "execution_count": null,
   "id": "e13b8b1a-62e1-4aaa-b870-1a3e64e8e703",
   "metadata": {},
   "outputs": [],
   "source": []
  },
  {
   "cell_type": "code",
   "execution_count": null,
   "id": "eadc1491-84d3-4a6f-b39b-cb393f4b53bb",
   "metadata": {},
   "outputs": [],
   "source": []
  },
  {
   "cell_type": "code",
   "execution_count": null,
   "id": "1148900d-a184-4f4c-a05d-9d6c96a5aa4d",
   "metadata": {},
   "outputs": [],
   "source": []
  },
  {
   "cell_type": "code",
   "execution_count": null,
   "id": "f844918a-0f47-4622-8d76-dd48f06d129d",
   "metadata": {},
   "outputs": [],
   "source": []
  },
  {
   "cell_type": "code",
   "execution_count": null,
   "id": "47b11e01-a16e-40d8-bdeb-f065dd298087",
   "metadata": {},
   "outputs": [],
   "source": []
  },
  {
   "cell_type": "code",
   "execution_count": null,
   "id": "a53f404d-171a-495e-806d-c5fb75cc2d89",
   "metadata": {},
   "outputs": [],
   "source": []
  },
  {
   "cell_type": "code",
   "execution_count": null,
   "id": "2ec29e6d-1128-4958-99a4-eded84307790",
   "metadata": {},
   "outputs": [],
   "source": []
  },
  {
   "cell_type": "code",
   "execution_count": null,
   "id": "b2e0e348-3f56-469c-a961-c5bac4821cd5",
   "metadata": {},
   "outputs": [],
   "source": []
  },
  {
   "cell_type": "code",
   "execution_count": null,
   "id": "eec52f47-d503-4fbe-8d0e-0932fb712525",
   "metadata": {},
   "outputs": [],
   "source": []
  },
  {
   "cell_type": "code",
   "execution_count": null,
   "id": "69dc023b-88b8-4065-96ad-603d610f214f",
   "metadata": {},
   "outputs": [],
   "source": []
  },
  {
   "cell_type": "code",
   "execution_count": null,
   "id": "9ab501a2-ee59-47e4-b594-5abf4955c496",
   "metadata": {},
   "outputs": [],
   "source": []
  },
  {
   "cell_type": "code",
   "execution_count": null,
   "id": "231d4004-ba86-4a64-9c4d-83cb63183a4c",
   "metadata": {},
   "outputs": [],
   "source": []
  }
 ],
 "metadata": {
  "kernelspec": {
   "display_name": "Python 3 (ipykernel)",
   "language": "python",
   "name": "python3"
  },
  "language_info": {
   "codemirror_mode": {
    "name": "ipython",
    "version": 3
   },
   "file_extension": ".py",
   "mimetype": "text/x-python",
   "name": "python",
   "nbconvert_exporter": "python",
   "pygments_lexer": "ipython3",
   "version": "3.12.1"
  }
 },
 "nbformat": 4,
 "nbformat_minor": 5
}
